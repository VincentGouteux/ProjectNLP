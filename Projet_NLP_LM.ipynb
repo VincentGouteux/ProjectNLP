{
 "cells": [
  {
   "cell_type": "markdown",
   "metadata": {},
   "source": [
    "# Build an efficient supervised word translator for English to French and French to English\n",
    "\n",
    "Based on : \"Exploiting Similarities among Languages for Machine Translation\" of Tomas Mikolov, Quoc V. Le & Ilya Sutskever (2013)"
   ]
  },
  {
   "cell_type": "code",
   "execution_count": 1,
   "metadata": {},
   "outputs": [],
   "source": [
    "import io\n",
    "\n",
    "import numpy as np\n",
    "from numpy import dot\n",
    "from numpy.linalg import norm\n",
    "\n",
    "import sklearn\n",
    "from sklearn.metrics.pairwise import cosine_similarity\n",
    "\n",
    "import matplotlib.pyplot as plt"
   ]
  },
  {
   "cell_type": "code",
   "execution_count": 2,
   "metadata": {},
   "outputs": [],
   "source": [
    "# load function for pretrained versions of word embeddings\n",
    "def load_embeddings(emb_path, nmax=50000):\n",
    "    vectors = []\n",
    "    word2id = {}\n",
    "    with io.open(emb_path, 'r', encoding='utf-8', newline='\\n', errors='ignore') as f:\n",
    "        next(f)\n",
    "        for i, line in enumerate(f):\n",
    "            word, vect = line.rstrip().split(' ', 1)\n",
    "            vect = np.fromstring(vect, sep=' ')\n",
    "            assert word not in word2id, 'word found twice'\n",
    "            vectors.append(vect)\n",
    "            word2id[word] = len(word2id)\n",
    "            if len(word2id) == nmax:\n",
    "                break\n",
    "    id2word = {v: k for k, v in word2id.items()}\n",
    "    embeddings = np.vstack(vectors)\n",
    "    return embeddings, id2word, word2id"
   ]
  },
  {
   "cell_type": "code",
   "execution_count": 3,
   "metadata": {},
   "outputs": [],
   "source": [
    "eng_path = '/Users/louismonier/Downloads/Monolingual/wiki.en.vec' \n",
    "fr_path = '/Users/louismonier/Downloads/Monolingual/wiki.fr.vec'\n",
    "nmax = 50000  # maximum number of word embeddings to load\n",
    "\n",
    "# load monolingual word embeddings \n",
    "src_embeddings, src_id2word, src_word2id = load_embeddings(fr_path, nmax) # source = french \n",
    "tgt_embeddings, tgt_id2word, tgt_word2id = load_embeddings(eng_path, nmax) # target = english"
   ]
  },
  {
   "cell_type": "markdown",
   "metadata": {},
   "source": [
    "### FRENCH to ENGLISH translation\n",
    "\n",
    "* source language = french\n",
    "* target language = english"
   ]
  },
  {
   "cell_type": "code",
   "execution_count": 4,
   "metadata": {},
   "outputs": [],
   "source": [
    "# load ground-truth bilingual dictionaries function\n",
    "def load_dic(path):\n",
    "    dico_full = {}\n",
    "    vectors_src=[]\n",
    "    vectors_tgt = []\n",
    "    with io.open(path,'r',encoding='utf_8') as f:\n",
    "        for i,line in enumerate(f):\n",
    "            word_src, word_tgt = line.rstrip().split(' ',1)\n",
    "            if word_tgt in tgt_word2id :\n",
    "                dico_full[word_src]=word_tgt\n",
    "    for key in dico_full.keys() :\n",
    "            vectors_src.append(src_embeddings[src_word2id[key]])\n",
    "            vectors_tgt.append(tgt_embeddings[tgt_word2id[dico_full[key]]])\n",
    "    X = np.vstack(vectors_src)\n",
    "    Z = np.vstack (vectors_tgt)\n",
    "    return dico_full,X,Z"
   ]
  },
  {
   "cell_type": "code",
   "execution_count": 5,
   "metadata": {},
   "outputs": [],
   "source": [
    "# train & test bilingual dictionaries\n",
    "path_train = r'/Users/louismonier/Downloads/Monolingual/fr-en.0-5000.txt' \n",
    "path_test = r'/Users/louismonier/Downloads/Monolingual/fr-en.5000-6500.txt'\n",
    "dico_train, X_train, Z_train = load_dic(path_train)\n",
    "dico_test, X_test, Z_test = load_dic(path_test) "
   ]
  },
  {
   "cell_type": "markdown",
   "metadata": {},
   "source": [
    "### Build a learning a linear mapping from a source (french) to a target (english) embedding space thanks to a translation Matrix W \n",
    "\n",
    "Suppose we are given a set of word pairs and their associated vector representations ${ \\{x_i , z_i\\} }^{n}_{i=1}$ , where $x_i$ ∈ $R^{d1}$ is the distributed representation of word i in the source language, and $z_i$ ∈ $R^{d2}$ is the vector representation of its translation.\n",
    "\n",
    "It is our goal to find a transformation matrix W such that W xi approximates $z_i$ . In practice, W can be learned by the following optimization problem :\n",
    "\n",
    "$$ \\underset{W}{min} C (W) = \\underset{W}{min} \\sum_{i=1}^{n} \\| W x_i - z_i \\|^2 $$ \n",
    "\n",
    "which we solve with gradient descent (GD), stochastic gradient descent (SGD) or mini-batch gradient descent (BGD)."
   ]
  },
  {
   "cell_type": "code",
   "execution_count": 22,
   "metadata": {
    "scrolled": true
   },
   "outputs": [
    {
     "name": "stdout",
     "output_type": "stream",
     "text": [
      "4971 training samples\n",
      "1483 test samples\n",
      "d1 dimension : 300\n",
      "d2 dimension : 300\n"
     ]
    }
   ],
   "source": [
    "print(X_train.shape[0], \"training samples\")\n",
    "print(X_test.shape[0], \"test samples\")\n",
    "\n",
    "print(\"d1 dimension :\", X_train.shape[1])\n",
    "print(\"d2 dimension :\", X_test.shape[1])"
   ]
  },
  {
   "cell_type": "code",
   "execution_count": 73,
   "metadata": {},
   "outputs": [],
   "source": [
    "# function to minimize\n",
    "def C(W,X,Z):\n",
    "    S = 0\n",
    "    S = sum(np.linalg.norm(np.dot(X, W.T) - Z, axis=1)**2)\n",
    "    return S"
   ]
  },
  {
   "cell_type": "code",
   "execution_count": 74,
   "metadata": {},
   "outputs": [],
   "source": [
    "# gradient of the function to minimize\n",
    "def GradW(W,X,Z):\n",
    "    G = np.zeros((Z_train.shape[1], X_train.shape[1]))\n",
    "    G = 2*np.dot(X.T, (np.dot(X, W.T) - Z)).T\n",
    "    return G"
   ]
  },
  {
   "cell_type": "code",
   "execution_count": 75,
   "metadata": {},
   "outputs": [],
   "source": [
    "# GD function\n",
    "def GradientDescent(eta, niter): \n",
    "    W = np.random.rand(300,300) # random initialisation of W\n",
    "    value_C = np.zeros(niter)\n",
    "    for t in range(niter): \n",
    "        value_C[t] = C(W,X_train,Z_train)\n",
    "        W -= eta*GradW(W,X_train,Z_train)\n",
    "    print(\"Done...\")\n",
    "    return (W, value_C) #,acc_test,acc_train)"
   ]
  },
  {
   "cell_type": "code",
   "execution_count": 76,
   "metadata": {},
   "outputs": [],
   "source": [
    "# SGC or BGD\n",
    "def StochasticGradientDescent(eta, niter, nb):\n",
    "    W = np.random.rand(300,300) # random initialisation of W\n",
    "    grad = np.zeros((Z_train.shape[1], X_train.shape[1]))\n",
    "    value_C = np.zeros(niter)\n",
    "    \n",
    "    for t in range(niter):\n",
    "        if nb>1 : # BGD\n",
    "            l = np.random.choice(len(dico_train), nb) # size of batch\n",
    "            for p in l : # ok\n",
    "                grad += (2*np.outer((np.dot(W, X_train[p]) - Z_train[p]), X_train[p]))\n",
    "        else : # SGD\n",
    "            l = np.random.randint(low=0,high=len(dico_train)) \n",
    "            grad += (2*np.outer((np.dot(W, X_train[l]) - Z_train[l]), X_train[l]))\n",
    "        \n",
    "        grad = (1/nb)*grad\n",
    "        W -= eta*grad\n",
    "        value_C[t] = C(W,X_train,Z_train)\n",
    "    print(\"Done...\")\n",
    "    return (W, value_C)"
   ]
  },
  {
   "cell_type": "markdown",
   "metadata": {},
   "source": [
    "### Train the model\n",
    "The goal is to find the best W to map the source language to the target one."
   ]
  },
  {
   "cell_type": "code",
   "execution_count": 77,
   "metadata": {
    "scrolled": true
   },
   "outputs": [
    {
     "name": "stdout",
     "output_type": "stream",
     "text": [
      "Done...\n",
      "Done...\n",
      "Done...\n"
     ]
    }
   ],
   "source": [
    "eta = 5e-5\n",
    "niter = 100\n",
    "\n",
    "W_GD, C_GD = GradientDescent(eta, niter) # GD\n",
    "W_SGD, C_SGD = StochasticGradientDescent(eta, niter, 1) # SGD\n",
    "W_BGD, C_BsGD = StochasticGradientDescent(eta, niter, 50) # BGD"
   ]
  },
  {
   "cell_type": "code",
   "execution_count": 83,
   "metadata": {
    "scrolled": false
   },
   "outputs": [
    {
     "data": {
      "text/plain": [
       "<matplotlib.legend.Legend at 0x1a27eb3410>"
      ]
     },
     "execution_count": 83,
     "metadata": {},
     "output_type": "execute_result"
    },
    {
     "data": {
      "image/png": "[encoded data removed]",
      "text/plain": [
       "<Figure size 432x288 with 1 Axes>"
      ]
     },
     "metadata": {
      "needs_background": "light"
     },
     "output_type": "display_data"
    }
   ],
   "source": [
    "plt.plot(C_GD, label=\"Gradient Descent\")\n",
    "plt.plot(C_SGD, label=\"Stochastic Gradient Descent\")\n",
    "plt.plot(C_MGD, label=\"Batch Gradient Descent\")\n",
    "plt.legend()"
   ]
  },
  {
   "cell_type": "markdown",
   "metadata": {},
   "source": [
    "WTF pour le SGD et le BGD ? "
   ]
  },
  {
   "cell_type": "code",
   "execution_count": 50,
   "metadata": {
    "scrolled": true
   },
   "outputs": [],
   "source": [
    "Wmin = np.dot(np.linalg.pinv(X_train), Z_train).T "
   ]
  },
  {
   "cell_type": "code",
   "execution_count": null,
   "metadata": {},
   "outputs": [],
   "source": [
    "d2, d1 = 3, 6\n",
    "N = 100  # num samples\n",
    "\n",
    "rng = np.random.RandomState(42)\n",
    "\n",
    "W = rng.randn(d1, d2)\n",
    "X = rng.randn(N, d1)\n",
    "Z_clean = X.dot(W)\n",
    "print(X.dot(W).shape)\n",
    "\n",
    "Z = Z_clean + rng.randn(*Z_clean.shape) * .001\n",
    "\n",
    "#W_est = np.linalg.pinv(X.T).dot(Z.T).T\n",
    "W_est1 = Z.dot(np.linalg.pinv(X))"
   ]
  },
  {
   "cell_type": "code",
   "execution_count": null,
   "metadata": {},
   "outputs": [],
   "source": [
    "print(W_est.shape)\n",
    "print(W_est1.shape)"
   ]
  },
  {
   "cell_type": "markdown",
   "metadata": {},
   "source": [
    "### Testing the model"
   ]
  },
  {
   "cell_type": "markdown",
   "metadata": {},
   "source": [
    "At the prediction time, for any given new word and its continuous vector representation x, we can map it to the other language space by computing $z = Wx$. Then, we find the word whose representation is closest to z in the target language space, using cosine similarity as the distance metric."
   ]
  },
  {
   "cell_type": "code",
   "execution_count": null,
   "metadata": {},
   "outputs": [],
   "source": [
    "def prediction(W, new_word):\n",
    "    x = src_embeddings[src_word2id[new_word]] # vector representation of the new word in the source space\n",
    "    z = np.dot(W, x) # vector representation of the translated word in the target space\n",
    "\n",
    "    # representation closest to z in the target language space, using cosine similarity as the distance metric\n",
    "    z_pred = np.argmax(sklearn.metrics.pairwise.cosine_similarity(z.reshape(1,300),tgt_embeddings)) \n",
    "    \n",
    "    return tgt_id2word[z_pred] # return the id of the translated word"
   ]
  },
  {
   "cell_type": "code",
   "execution_count": null,
   "metadata": {},
   "outputs": [],
   "source": [
    "# construct a translation French to English dictionary\n",
    "def prediction_dict(dico, W):\n",
    "    dico_pred={}\n",
    "    i=0\n",
    "    for word in dico.keys() :\n",
    "        if (i%10==0):\n",
    "            print(i)\n",
    "        dico_pred[word] = prediction(W, word)\n",
    "        i += 1\n",
    "    return dico_pred "
   ]
  },
  {
   "cell_type": "code",
   "execution_count": null,
   "metadata": {},
   "outputs": [],
   "source": [
    "# measure of the accuracy of the dictionnarty\n",
    "def accuracy(dico_pred, dico):\n",
    "    c = 0\n",
    "    for key in dico.keys():\n",
    "        if dico[key] == dico_pred[key]:\n",
    "            c += 1\n",
    "    return(c/len(dico)) # nb de mots bien prédits/nb de mots total"
   ]
  },
  {
   "cell_type": "code",
   "execution_count": null,
   "metadata": {},
   "outputs": [],
   "source": [
    "eta = 0.001\n",
    "niter = 30\n",
    "    \n",
    "W, val, aac_test, acc_train = GradientDescent(eta, niter)\n",
    "\n",
    "plt.plot(range(len(val)),val)\n",
    "plt.ylabel('Cost Function')\n",
    "plt.xlabel('Iteration')\n",
    "plt.title(\"Cost function\")\n",
    "plt.legend()\n",
    "plt.show()\n",
    "\n",
    "dico_pred = prediction_dict(dico_test)  \n",
    "accuracy_test = accuracy(dico_pred,dico_test)\n",
    "\n",
    "plt.plot(range(0,len(val),10),aac_test)\n",
    "plt.ylabel('Accuracy TestSet')\n",
    "plt.xlabel('Iteration')\n",
    "plt.legend()\n",
    "plt.show()"
   ]
  },
  {
   "cell_type": "markdown",
   "metadata": {},
   "source": [
    "## Adressing the inconsistency\n",
    "\n",
    "Based on \"Normalized Word Embedding and Orthogonal Transform for Bilingual Word Translation\" of Chao Xing, Dong Wang, Chao Liu & Yiye Lin (2015)"
   ]
  },
  {
   "cell_type": "code",
   "execution_count": null,
   "metadata": {},
   "outputs": [],
   "source": [
    "# function to minimize\n",
    "def C_ortho(W,X,Z):\n",
    "    S=0\n",
    "    for i in range(X.shape[0]):\n",
    "        S+=(W.dot(X[i])).reshape(1,300).dot(Z[i].reshape(300,1))\n",
    "    return S"
   ]
  },
  {
   "cell_type": "code",
   "execution_count": null,
   "metadata": {},
   "outputs": [],
   "source": [
    "# gradient of function to minimize\n",
    "def dC_dW_ortho(W,X,Z):\n",
    "    S=0\n",
    "    for i in range(X.shape[0]):\n",
    "        S+=np.outer(X[i],Z[i])\n",
    "    return S"
   ]
  },
  {
   "cell_type": "code",
   "execution_count": null,
   "metadata": {},
   "outputs": [],
   "source": [
    "# orthogonal GD function\n",
    "def orthogonal_GD(alpha,N)\n",
    "    W = np.random.rand(300,300) # random initialisation of W\n",
    "    value_C_ortho = []\n",
    "    \n",
    "    for t in range(N):\n",
    "        W += alpha*dC_dW_ortho(tmp_W,X_train,Z_train)\n",
    "        value_C_ortho.append(C_ortho(W,X_train,Z_train))\n",
    "        \n",
    "    #rajouter contrainte d'orthogonalité sur W \n",
    "    print(value_C_ortho)\n",
    "    print(dC_dW_ortho(W,X_train,Z_train))\n",
    "    print(np.linalg.norm(dC_dW_ortho(W,X_train,Z_train)))\n",
    "    return(W,value_C_ortho)"
   ]
  }
 ],
 "metadata": {
  "kernelspec": {
   "display_name": "Python 3",
   "language": "python",
   "name": "python3"
  },
  "language_info": {
   "codemirror_mode": {
    "name": "ipython",
    "version": 3
   },
   "file_extension": ".py",
   "mimetype": "text/x-python",
   "name": "python",
   "nbconvert_exporter": "python",
   "pygments_lexer": "ipython3",
   "version": "3.7.4"
  }
 },
 "nbformat": 4,
 "nbformat_minor": 2
}
