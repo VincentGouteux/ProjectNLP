{
 "cells": [
  {
   "cell_type": "markdown",
   "metadata": {},
   "source": [
    "# Build an efficient unsupervised word translator\n",
    "\n",
    "Based on : \"Word Translation Without Parallel Data\" by Alexis Conneau, Guillaume Lample, Marc Aurelio Ranzato, Ludovic Denoyer & Hervé Jégou (2017)"
   ]
  },
  {
   "cell_type": "code",
   "execution_count": 1,
   "metadata": {},
   "outputs": [],
   "source": [
    "import io\n",
    "\n",
    "import numpy as np\n",
    "import matplotlib.pyplot as plt\n",
    "import math\n",
    "\n",
    "import torch\n",
    "from torch import nn\n",
    "import torch.optim as optim\n",
    "import torch.nn.functional as F\n",
    "\n",
    "from scipy.stats import special_ortho_group\n",
    "from sklearn.metrics.pairwise import cosine_similarity\n",
    "from sklearn.neighbors import NearestNeighbors"
   ]
  },
  {
   "cell_type": "code",
   "execution_count": 2,
   "metadata": {},
   "outputs": [],
   "source": [
    "# load function for pretrained versions of word embeddings\n",
    "def load_embeddings(emb_path, nmax=50000):\n",
    "    vectors = []\n",
    "    word2id = {}\n",
    "    with io.open(emb_path, 'r', encoding='utf-8', newline='\\n', errors='ignore') as f:\n",
    "        next(f)\n",
    "        for i, line in enumerate(f):\n",
    "            word, vect = line.rstrip().split(' ', 1)\n",
    "            vect = np.fromstring(vect, sep=' ')\n",
    "            assert word not in word2id, 'word found twice'\n",
    "            vectors.append(vect)\n",
    "            word2id[word] = len(word2id)\n",
    "            if len(word2id) == nmax:\n",
    "                break\n",
    "    id2word = {v: k for k, v in word2id.items()}\n",
    "    embeddings = np.vstack(vectors)\n",
    "    return embeddings, id2word, word2id"
   ]
  },
  {
   "cell_type": "code",
   "execution_count": 3,
   "metadata": {},
   "outputs": [],
   "source": [
    "##########\n",
    "eng_path = '/Users/louismonier/Downloads/Monolingual/wiki.en.vec' \n",
    "fr_path = '/Users/louismonier/Downloads/Monolingual/wiki.fr.vec'\n",
    "##########\n",
    "#eng_path = '/Users/vince/DataProjetNLP/wiki.en.vec'\n",
    "#fr_path = '/Users/vince/DataProjetNLP/wiki.fr.vec'\n",
    "##########\n",
    "nmax = 50000  # maximum number of word embeddings to load\n",
    "\n",
    "# load monolingual word embeddings \n",
    "src_embeddings, src_id2word, src_word2id = load_embeddings(fr_path, nmax) # source = french \n",
    "tgt_embeddings, tgt_id2word, tgt_word2id = load_embeddings(eng_path, nmax) # target = english"
   ]
  },
  {
   "cell_type": "code",
   "execution_count": 4,
   "metadata": {},
   "outputs": [],
   "source": [
    "# load ground-truth bilingual dictionaries function\n",
    "def load_dic(path):\n",
    "    dico_full = {}\n",
    "    vectors_src=[]\n",
    "    vectors_tgt = []\n",
    "    with io.open(path,'r',encoding='utf_8') as f:\n",
    "        for i,line in enumerate(f):\n",
    "            word_src, word_tgt = line.rstrip().split(' ',1)\n",
    "            if word_tgt in tgt_word2id :\n",
    "                dico_full[word_src]=word_tgt\n",
    "    for key in dico_full.keys() :\n",
    "            vectors_src.append(src_embeddings[src_word2id[key]])\n",
    "            vectors_tgt.append(tgt_embeddings[tgt_word2id[dico_full[key]]])\n",
    "    X = np.vstack(vectors_src)\n",
    "    Z = np.vstack (vectors_tgt)\n",
    "    return dico_full,X,Z"
   ]
  },
  {
   "cell_type": "code",
   "execution_count": 5,
   "metadata": {},
   "outputs": [
    {
     "name": "stdout",
     "output_type": "stream",
     "text": [
      "<class 'numpy.ndarray'>\n",
      "<class 'torch.Tensor'>\n"
     ]
    }
   ],
   "source": [
    "# train & test bilingual dictionaries\n",
    "##########\n",
    "path_train = r'/Users/louismonier/Downloads/Monolingual/fr-en.0-5000.txt' \n",
    "path_test = r'/Users/louismonier/Downloads/Monolingual/fr-en.5000-6500.txt'\n",
    "##########\n",
    "#path_train = '/Users/vince/DataProjetNLP/fr-en.0-5000.txt' \n",
    "#path_test = '/Users/vince/DataProjetNLP/fr-en.5000-6500.txt'\n",
    "##########\n",
    "\n",
    "dico_train, X_train, Z_train = load_dic(path_train)\n",
    "dico_test, X_test, Z_test = load_dic(path_test)\n",
    "\n",
    "# convert embeddings vectors into torch tensors \n",
    "print(type(X_train[0]))\n",
    "X_train, Z_train, X_test, Z_test = map(torch.tensor, (X_train, Z_train, X_test, Z_test)) \n",
    "print(type(X_train[0]))"
   ]
  },
  {
   "cell_type": "code",
   "execution_count": 6,
   "metadata": {
    "scrolled": false
   },
   "outputs": [
    {
     "name": "stdout",
     "output_type": "stream",
     "text": [
      "4971 training samples\n",
      "1483 test samples\n",
      "Vectors dimension : 300\n"
     ]
    }
   ],
   "source": [
    "print(X_train.shape[0], \"training samples\")\n",
    "print(X_test.shape[0], \"test samples\")\n",
    "dim = X_train.shape[1]\n",
    "print(\"Vectors dimension :\", dim)"
   ]
  },
  {
   "cell_type": "markdown",
   "metadata": {},
   "source": [
    "## Build the discriminator \n",
    "\n",
    "Recall what is the objective of the discriminator here : ..."
   ]
  },
  {
   "cell_type": "code",
   "execution_count": 7,
   "metadata": {},
   "outputs": [],
   "source": [
    "class Discriminator(nn.Module):\n",
    "    def __init__(self, dim):\n",
    "        super(Discriminator,self).__init__()\n",
    "        self.h1 = nn.Linear(dim, 2048,bias=True) # 1st hidden layer\n",
    "        #self.h2 = nn.Linear(2048,2048,bias=True) # 2nd hidden layer\n",
    "        self.out = nn.Linear(2048,1,bias=True) # output layer\n",
    "        \n",
    "    def forward(self, x):\n",
    "        x = F.dropout(x, p = 0.1) # dropout pour ajouter du bruit\n",
    "        x = F.leaky_relu(self.h1(x)) #, negative_slope=0.2)\n",
    "        #x = F.leaky_relu(self.h2(x), negative_slope=0.2)\n",
    "        y = torch.sigmoid(self.out(x)) # ouput = proba\n",
    "        return y"
   ]
  },
  {
   "cell_type": "markdown",
   "metadata": {},
   "source": [
    "## Build the generator \n",
    "\n",
    "Recall what is the objective of the discriminator here : ..."
   ]
  },
  {
   "cell_type": "code",
   "execution_count": 8,
   "metadata": {},
   "outputs": [],
   "source": [
    "# simple linear function \n",
    "# can be seen at a neural network whose weights are elements of W \n",
    "class Generator(nn.Module):\n",
    "    def __init__(self, dim):\n",
    "        super(Generator, self).__init__()\n",
    "        self.l1 = nn.Linear(dim, dim, bias=False)\n",
    "\n",
    "    def forward(self,x):\n",
    "        y = self.l1(x)\n",
    "        return y"
   ]
  },
  {
   "cell_type": "markdown",
   "metadata": {},
   "source": [
    "## It's time to train "
   ]
  },
  {
   "cell_type": "code",
   "execution_count": 9,
   "metadata": {},
   "outputs": [],
   "source": [
    "discrim = Discriminator(dim)\n",
    "gener = Generator(dim)"
   ]
  },
  {
   "cell_type": "code",
   "execution_count": 10,
   "metadata": {},
   "outputs": [],
   "source": [
    "# Initialize BCELoss function\n",
    "criterion = nn.BCELoss()\n",
    "\n",
    "optimizerD = optim.SGD(discrim.parameters(), lr=0.1)\n",
    "optimizerG = optim.SGD(gener.parameters(), lr=0.1)"
   ]
  },
  {
   "cell_type": "code",
   "execution_count": 11,
   "metadata": {},
   "outputs": [],
   "source": [
    "#for epoch in range(3): #3 Epochs \n",
    "G_losses = []\n",
    "D_losses = []\n",
    "iters = 0\n",
    "\n",
    "N = 16 # nb of \"fake\" tgt // Wx\n",
    "M = 16 # nb of \"true\" tgt // y\n",
    "\n",
    "W = special_ortho_group.rvs(dim) #np.zeros((300,300), dtype=float)  #np.random.rand(Z_train.shape[1],Z_train.shape[1]) #  # #\n",
    "gener.l1.weight.data = torch.tensor(W,dtype=torch.float) # ini of generator's weights in SO(300)\n",
    "beta = 0.01\n",
    "\n",
    "for param in discrim.h1.parameters():\n",
    "    param.data.normal_(0.0, 0.2) #uniform_(-0.1,0.1)\n",
    "\n",
    "niter = 1000\n",
    "num_epochs = 5\n",
    "#nb_d = 1\n",
    "#nb_g = 10\n",
    "\n",
    "# Establish convention for real and fake labels during training\n",
    "real_label = 0.8\n",
    "fake_label = 0.2"
   ]
  },
  {
   "cell_type": "code",
   "execution_count": 13,
   "metadata": {
    "scrolled": false
   },
   "outputs": [
    {
     "name": "stdout",
     "output_type": "stream",
     "text": [
      "Starting Training Loop...\n",
      "[0/5][0/1000]\tLoss_D: 1.4459\tLoss_G: 2.1406\tD(x): 0.4791\tD(G(z)): 0.5109 / 0.0819\n"
     ]
    },
    {
     "name": "stderr",
     "output_type": "stream",
     "text": [
      "/opt/miniconda3/lib/python3.7/site-packages/ipykernel_launcher.py:16: UserWarning: To copy construct from a tensor, it is recommended to use sourceTensor.clone().detach() or sourceTensor.clone().detach().requires_grad_(True), rather than torch.tensor(sourceTensor).\n",
      "  app.launch_new_instance()\n",
      "/opt/miniconda3/lib/python3.7/site-packages/ipykernel_launcher.py:39: UserWarning: To copy construct from a tensor, it is recommended to use sourceTensor.clone().detach() or sourceTensor.clone().detach().requires_grad_(True), rather than torch.tensor(sourceTensor).\n"
     ]
    },
    {
     "name": "stdout",
     "output_type": "stream",
     "text": [
      "[0/5][50/1000]\tLoss_D: 16.3349\tLoss_G: 7.8043\tD(x): 0.9998\tD(G(z)): 1.0000 / 0.0040\n",
      "[0/5][100/1000]\tLoss_D: 8.1192\tLoss_G: 6.6719\tD(x): 0.9931\tD(G(z)): 0.9996 / 0.0006\n",
      "[0/5][150/1000]\tLoss_D: 5.3676\tLoss_G: 5.4549\tD(x): 0.9361\tD(G(z)): 0.9917 / 0.0021\n",
      "[0/5][200/1000]\tLoss_D: 3.4546\tLoss_G: 3.1207\tD(x): 0.8264\tD(G(z)): 0.9551 / 0.0299\n",
      "[0/5][250/1000]\tLoss_D: 3.3459\tLoss_G: 0.7574\tD(x): 0.0527\tD(G(z)): 0.1685 / 0.9444\n",
      "[0/5][300/1000]\tLoss_D: 3.3985\tLoss_G: 0.7100\tD(x): 0.0599\tD(G(z)): 0.2277 / 0.9172\n",
      "[0/5][350/1000]\tLoss_D: 2.2197\tLoss_G: 0.5495\tD(x): 0.2185\tD(G(z)): 0.3511 / 0.8380\n",
      "[0/5][400/1000]\tLoss_D: 2.2148\tLoss_G: 0.5602\tD(x): 0.2355\tD(G(z)): 0.4728 / 0.6748\n",
      "[0/5][450/1000]\tLoss_D: 1.9373\tLoss_G: 0.5358\tD(x): 0.2455\tD(G(z)): 0.3090 / 0.7295\n",
      "[0/5][500/1000]\tLoss_D: 1.6291\tLoss_G: 1.9228\tD(x): 0.7072\tD(G(z)): 0.6858 / 0.1394\n",
      "[0/5][550/1000]\tLoss_D: 1.8072\tLoss_G: 2.4322\tD(x): 0.5981\tD(G(z)): 0.7374 / 0.0683\n",
      "[0/5][600/1000]\tLoss_D: 1.9643\tLoss_G: 2.3997\tD(x): 0.6289\tD(G(z)): 0.7793 / 0.0762\n",
      "[0/5][650/1000]\tLoss_D: 1.9018\tLoss_G: 0.5705\tD(x): 0.2426\tD(G(z)): 0.3987 / 0.6478\n",
      "[0/5][700/1000]\tLoss_D: 1.6118\tLoss_G: 1.0049\tD(x): 0.4042\tD(G(z)): 0.5167 / 0.3334\n",
      "[0/5][750/1000]\tLoss_D: 1.4889\tLoss_G: 1.0688\tD(x): 0.4890\tD(G(z)): 0.4904 / 0.3136\n",
      "[0/5][800/1000]\tLoss_D: 1.5880\tLoss_G: 0.6813\tD(x): 0.3692\tD(G(z)): 0.4284 / 0.5202\n",
      "[0/5][850/1000]\tLoss_D: 1.6922\tLoss_G: 1.3186\tD(x): 0.5510\tD(G(z)): 0.6396 / 0.2230\n",
      "[0/5][900/1000]\tLoss_D: 1.5733\tLoss_G: 0.9415\tD(x): 0.4083\tD(G(z)): 0.4917 / 0.3675\n",
      "[0/5][950/1000]\tLoss_D: 1.4657\tLoss_G: 0.8924\tD(x): 0.4978\tD(G(z)): 0.4929 / 0.4025\n",
      "[1/5][0/1000]\tLoss_D: 1.4835\tLoss_G: 0.6339\tD(x): 0.3779\tD(G(z)): 0.3418 / 0.5625\n",
      "[1/5][50/1000]\tLoss_D: 1.6922\tLoss_G: 0.7177\tD(x): 0.4070\tD(G(z)): 0.5484 / 0.5069\n",
      "[1/5][100/1000]\tLoss_D: 1.4382\tLoss_G: 1.0692\tD(x): 0.5830\tD(G(z)): 0.5498 / 0.3108\n",
      "[1/5][150/1000]\tLoss_D: 1.6202\tLoss_G: 0.6953\tD(x): 0.3818\tD(G(z)): 0.5121 / 0.5150\n",
      "[1/5][200/1000]\tLoss_D: 1.5726\tLoss_G: 0.6900\tD(x): 0.3432\tD(G(z)): 0.3750 / 0.5158\n",
      "[1/5][250/1000]\tLoss_D: 1.5333\tLoss_G: 0.8679\tD(x): 0.4654\tD(G(z)): 0.5453 / 0.4116\n",
      "[1/5][300/1000]\tLoss_D: 1.5952\tLoss_G: 0.6335\tD(x): 0.3505\tD(G(z)): 0.4178 / 0.5697\n",
      "[1/5][350/1000]\tLoss_D: 1.5619\tLoss_G: 0.6669\tD(x): 0.3581\tD(G(z)): 0.3773 / 0.5358\n",
      "[1/5][400/1000]\tLoss_D: 1.6972\tLoss_G: 0.7908\tD(x): 0.4113\tD(G(z)): 0.5722 / 0.4434\n",
      "[1/5][450/1000]\tLoss_D: 1.5091\tLoss_G: 1.0440\tD(x): 0.5448\tD(G(z)): 0.5938 / 0.3150\n",
      "[1/5][500/1000]\tLoss_D: 1.6376\tLoss_G: 0.7358\tD(x): 0.3979\tD(G(z)): 0.5300 / 0.4786\n",
      "[1/5][550/1000]\tLoss_D: 1.4579\tLoss_G: 1.1718\tD(x): 0.5618\tD(G(z)): 0.5749 / 0.2750\n",
      "[1/5][600/1000]\tLoss_D: 1.4503\tLoss_G: 0.8654\tD(x): 0.5140\tD(G(z)): 0.5349 / 0.3967\n",
      "[1/5][650/1000]\tLoss_D: 1.5142\tLoss_G: 0.9599\tD(x): 0.4888\tD(G(z)): 0.5456 / 0.3544\n",
      "[1/5][700/1000]\tLoss_D: 1.4984\tLoss_G: 0.8712\tD(x): 0.4231\tD(G(z)): 0.4741 / 0.3999\n",
      "[1/5][750/1000]\tLoss_D: 1.5295\tLoss_G: 0.9421\tD(x): 0.4738\tD(G(z)): 0.5508 / 0.3650\n",
      "[1/5][800/1000]\tLoss_D: 1.4229\tLoss_G: 0.7785\tD(x): 0.5603\tD(G(z)): 0.5316 / 0.4471\n",
      "[1/5][850/1000]\tLoss_D: 1.4898\tLoss_G: 1.1833\tD(x): 0.5313\tD(G(z)): 0.5743 / 0.2866\n",
      "[1/5][900/1000]\tLoss_D: 1.5051\tLoss_G: 0.8520\tD(x): 0.4799\tD(G(z)): 0.5355 / 0.4085\n",
      "[1/5][950/1000]\tLoss_D: 1.5505\tLoss_G: 0.9623\tD(x): 0.5808\tD(G(z)): 0.6016 / 0.3550\n",
      "[2/5][0/1000]\tLoss_D: 1.5044\tLoss_G: 0.8573\tD(x): 0.4339\tD(G(z)): 0.4723 / 0.4026\n",
      "[2/5][50/1000]\tLoss_D: 1.4170\tLoss_G: 1.0479\tD(x): 0.5716\tD(G(z)): 0.5563 / 0.3073\n",
      "[2/5][100/1000]\tLoss_D: 1.5281\tLoss_G: 0.8449\tD(x): 0.4516\tD(G(z)): 0.5377 / 0.4055\n",
      "[2/5][150/1000]\tLoss_D: 1.5537\tLoss_G: 0.8216\tD(x): 0.4208\tD(G(z)): 0.4698 / 0.4253\n",
      "[2/5][200/1000]\tLoss_D: 1.5494\tLoss_G: 1.1656\tD(x): 0.5074\tD(G(z)): 0.5786 / 0.2967\n",
      "[2/5][250/1000]\tLoss_D: 1.5473\tLoss_G: 0.8096\tD(x): 0.4458\tD(G(z)): 0.5338 / 0.4333\n",
      "[2/5][300/1000]\tLoss_D: 1.5257\tLoss_G: 0.7438\tD(x): 0.5023\tD(G(z)): 0.5783 / 0.4715\n",
      "[2/5][350/1000]\tLoss_D: 1.4497\tLoss_G: 0.8013\tD(x): 0.4805\tD(G(z)): 0.5081 / 0.4381\n",
      "[2/5][400/1000]\tLoss_D: 1.6609\tLoss_G: 0.7407\tD(x): 0.3564\tD(G(z)): 0.4910 / 0.4727\n",
      "[2/5][450/1000]\tLoss_D: 1.5015\tLoss_G: 0.7855\tD(x): 0.5103\tD(G(z)): 0.5688 / 0.4401\n",
      "[2/5][500/1000]\tLoss_D: 1.5416\tLoss_G: 1.0236\tD(x): 0.5040\tD(G(z)): 0.5893 / 0.3351\n",
      "[2/5][550/1000]\tLoss_D: 1.4806\tLoss_G: 0.7587\tD(x): 0.4429\tD(G(z)): 0.4919 / 0.4606\n",
      "[2/5][600/1000]\tLoss_D: 1.4810\tLoss_G: 0.8180\tD(x): 0.4500\tD(G(z)): 0.4897 / 0.4289\n",
      "[2/5][650/1000]\tLoss_D: 1.4808\tLoss_G: 1.0045\tD(x): 0.5119\tD(G(z)): 0.5546 / 0.3252\n",
      "[2/5][700/1000]\tLoss_D: 1.5368\tLoss_G: 1.5677\tD(x): 0.6088\tD(G(z)): 0.6386 / 0.1817\n",
      "[2/5][750/1000]\tLoss_D: 1.5162\tLoss_G: 0.7305\tD(x): 0.4377\tD(G(z)): 0.5047 / 0.4743\n",
      "[2/5][800/1000]\tLoss_D: 1.6082\tLoss_G: 0.8634\tD(x): 0.4337\tD(G(z)): 0.5724 / 0.3939\n",
      "[2/5][850/1000]\tLoss_D: 1.4571\tLoss_G: 0.8044\tD(x): 0.4337\tD(G(z)): 0.4314 / 0.4452\n",
      "[2/5][900/1000]\tLoss_D: 1.5207\tLoss_G: 0.7779\tD(x): 0.4331\tD(G(z)): 0.4996 / 0.4484\n",
      "[2/5][950/1000]\tLoss_D: 1.4855\tLoss_G: 0.7418\tD(x): 0.4274\tD(G(z)): 0.4396 / 0.4718\n",
      "[3/5][0/1000]\tLoss_D: 1.5251\tLoss_G: 0.7314\tD(x): 0.4270\tD(G(z)): 0.5032 / 0.4866\n",
      "[3/5][50/1000]\tLoss_D: 1.5322\tLoss_G: 0.8136\tD(x): 0.5458\tD(G(z)): 0.5969 / 0.4351\n",
      "[3/5][100/1000]\tLoss_D: 1.5018\tLoss_G: 0.9050\tD(x): 0.4867\tD(G(z)): 0.5510 / 0.3811\n",
      "[3/5][150/1000]\tLoss_D: 1.4932\tLoss_G: 0.8672\tD(x): 0.5771\tD(G(z)): 0.5897 / 0.3974\n",
      "[3/5][200/1000]\tLoss_D: 1.5362\tLoss_G: 0.7159\tD(x): 0.4576\tD(G(z)): 0.5304 / 0.4941\n",
      "[3/5][250/1000]\tLoss_D: 1.4721\tLoss_G: 0.7557\tD(x): 0.4853\tD(G(z)): 0.5241 / 0.4623\n",
      "[3/5][300/1000]\tLoss_D: 1.5044\tLoss_G: 0.8516\tD(x): 0.4540\tD(G(z)): 0.5044 / 0.4129\n",
      "[3/5][350/1000]\tLoss_D: 1.4235\tLoss_G: 0.7528\tD(x): 0.4639\tD(G(z)): 0.4656 / 0.4602\n",
      "[3/5][400/1000]\tLoss_D: 1.4550\tLoss_G: 0.8163\tD(x): 0.5012\tD(G(z)): 0.5209 / 0.4202\n",
      "[3/5][450/1000]\tLoss_D: 1.5114\tLoss_G: 0.7879\tD(x): 0.4737\tD(G(z)): 0.5346 / 0.4391\n",
      "[3/5][500/1000]\tLoss_D: 1.6338\tLoss_G: 0.7045\tD(x): 0.3893\tD(G(z)): 0.4936 / 0.5011\n",
      "[3/5][550/1000]\tLoss_D: 1.5163\tLoss_G: 0.8862\tD(x): 0.5164\tD(G(z)): 0.5856 / 0.3819\n",
      "[3/5][600/1000]\tLoss_D: 1.4696\tLoss_G: 0.8216\tD(x): 0.5161\tD(G(z)): 0.5474 / 0.4158\n",
      "[3/5][650/1000]\tLoss_D: 1.4886\tLoss_G: 0.8072\tD(x): 0.5324\tD(G(z)): 0.5803 / 0.4282\n",
      "[3/5][700/1000]\tLoss_D: 1.5429\tLoss_G: 0.7724\tD(x): 0.4611\tD(G(z)): 0.5426 / 0.4557\n",
      "[3/5][750/1000]\tLoss_D: 1.4904\tLoss_G: 0.7869\tD(x): 0.4727\tD(G(z)): 0.5238 / 0.4427\n",
      "[3/5][800/1000]\tLoss_D: 1.4576\tLoss_G: 0.9181\tD(x): 0.4877\tD(G(z)): 0.5220 / 0.3710\n",
      "[3/5][850/1000]\tLoss_D: 1.4908\tLoss_G: 0.7699\tD(x): 0.4318\tD(G(z)): 0.4801 / 0.4498\n",
      "[3/5][900/1000]\tLoss_D: 1.5358\tLoss_G: 0.7606\tD(x): 0.5203\tD(G(z)): 0.6032 / 0.4546\n",
      "[3/5][950/1000]\tLoss_D: 1.5225\tLoss_G: 0.7467\tD(x): 0.4134\tD(G(z)): 0.4767 / 0.4685\n",
      "[4/5][0/1000]\tLoss_D: 1.4399\tLoss_G: 0.8898\tD(x): 0.5324\tD(G(z)): 0.5494 / 0.3820\n",
      "[4/5][50/1000]\tLoss_D: 1.5097\tLoss_G: 0.8422\tD(x): 0.4601\tD(G(z)): 0.5033 / 0.4228\n",
      "[4/5][100/1000]\tLoss_D: 1.4207\tLoss_G: 0.7406\tD(x): 0.4717\tD(G(z)): 0.4801 / 0.4737\n",
      "[4/5][150/1000]\tLoss_D: 1.4877\tLoss_G: 0.7554\tD(x): 0.4364\tD(G(z)): 0.4913 / 0.4605\n",
      "[4/5][200/1000]\tLoss_D: 1.5091\tLoss_G: 0.7402\tD(x): 0.4108\tD(G(z)): 0.4589 / 0.4766\n",
      "[4/5][250/1000]\tLoss_D: 1.4647\tLoss_G: 0.8452\tD(x): 0.4700\tD(G(z)): 0.4716 / 0.4075\n",
      "[4/5][300/1000]\tLoss_D: 1.4757\tLoss_G: 0.7985\tD(x): 0.5153\tD(G(z)): 0.5500 / 0.4421\n",
      "[4/5][350/1000]\tLoss_D: 1.4813\tLoss_G: 0.8117\tD(x): 0.4599\tD(G(z)): 0.4841 / 0.4271\n",
      "[4/5][400/1000]\tLoss_D: 1.4458\tLoss_G: 0.8200\tD(x): 0.5313\tD(G(z)): 0.5507 / 0.4175\n",
      "[4/5][450/1000]\tLoss_D: 1.4587\tLoss_G: 0.9320\tD(x): 0.5165\tD(G(z)): 0.5434 / 0.3634\n",
      "[4/5][500/1000]\tLoss_D: 1.4171\tLoss_G: 0.7729\tD(x): 0.4979\tD(G(z)): 0.4869 / 0.4499\n",
      "[4/5][550/1000]\tLoss_D: 1.4899\tLoss_G: 0.7832\tD(x): 0.4901\tD(G(z)): 0.5516 / 0.4463\n",
      "[4/5][600/1000]\tLoss_D: 1.4667\tLoss_G: 0.7651\tD(x): 0.5043\tD(G(z)): 0.5394 / 0.4573\n",
      "[4/5][650/1000]\tLoss_D: 1.5207\tLoss_G: 0.7737\tD(x): 0.4608\tD(G(z)): 0.5235 / 0.4549\n",
      "[4/5][700/1000]\tLoss_D: 1.4205\tLoss_G: 0.7387\tD(x): 0.4959\tD(G(z)): 0.4850 / 0.4853\n",
      "[4/5][750/1000]\tLoss_D: 1.5215\tLoss_G: 0.6959\tD(x): 0.4154\tD(G(z)): 0.4663 / 0.5140\n",
      "[4/5][800/1000]\tLoss_D: 1.5064\tLoss_G: 0.8101\tD(x): 0.4714\tD(G(z)): 0.5322 / 0.4315\n",
      "[4/5][850/1000]\tLoss_D: 1.4860\tLoss_G: 0.8158\tD(x): 0.5249\tD(G(z)): 0.5716 / 0.4286\n",
      "[4/5][900/1000]\tLoss_D: 1.5156\tLoss_G: 0.7511\tD(x): 0.4279\tD(G(z)): 0.4681 / 0.4683\n"
     ]
    },
    {
     "name": "stdout",
     "output_type": "stream",
     "text": [
      "[4/5][950/1000]\tLoss_D: 1.4325\tLoss_G: 0.7975\tD(x): 0.5545\tD(G(z)): 0.5624 / 0.4368\n"
     ]
    }
   ],
   "source": [
    "print(\"Starting Training Loop...\")\n",
    "\n",
    "for epoch in range(num_epochs):\n",
    "    for i in range(niter):\n",
    "        \n",
    "        ###############################################################\n",
    "        # (1) Update D network: maximize log(D(x)) + log(1 - D(G(z))) #\n",
    "        ###############################################################\n",
    "        \n",
    "        ## Train with all-real batch\n",
    "        discrim.zero_grad()\n",
    "        # Format batch : generate M random words from the target\n",
    "        \n",
    "        rand_tgt_word_id = torch.Tensor(M).random_(X_train.shape[0]).long()\n",
    "        tgt_word_emb = Z_train[rand_tgt_word_id.numpy()]\n",
    "        tgt_word_emb = torch.tensor(tgt_word_emb, dtype=torch.float) # conversion to tensor\n",
    "\n",
    "        label = torch.full((M,1), real_label)\n",
    "        \n",
    "        # Forward pass real batch through D\n",
    "        output = discrim(tgt_word_emb)#.view(-1)\n",
    "        #print(output.shape)\n",
    "        #print(output.view(-1).shape)\n",
    "        \n",
    "        # Calculate loss on all-real batch\n",
    "        errD_real = criterion(output, label)\n",
    "        \n",
    "        # Calculate gradients for D in backward pass\n",
    "        errD_real.backward()\n",
    "        D_x = output.mean().item()\n",
    "        \n",
    "        ## Train with all-fake batch\n",
    "        # Generate batch of latent vectors\n",
    "        \n",
    "        ## create a new batch of N fake & M true data to train the discriminator\n",
    "        # generate N random words from the source \n",
    "        rand_src_word_id = torch.Tensor(N).random_(X_train.shape[0]).long()\n",
    "        src_word_emb = X_train[rand_src_word_id.numpy()]\n",
    "        noise = torch.tensor(src_word_emb, dtype=torch.float) # conversion to tensor\n",
    "        \n",
    "        # Generate fake tgt batch with G\n",
    "        fake = gener(noise)\n",
    "        \n",
    "        label.fill_(fake_label)  \n",
    "        # Classify all fake batch with D\n",
    "        output = discrim(fake.detach())#.view(-1)\n",
    "        # Calculate D's loss on the all-fake batch\n",
    "        errD_fake = criterion(output, label)\n",
    "        # Calculate the gradients for this batch\n",
    "        errD_fake.backward()\n",
    "        D_G_z1 = output.mean().item()\n",
    "        # Add the gradients from the all-real and all-fake batches\n",
    "        errD = errD_real + errD_fake\n",
    "        # Update D\n",
    "        optimizerD.step()\n",
    "        \n",
    "        ############################\n",
    "        # (2) Update G network: maximize log(D(G(z)))\n",
    "        ###########################\n",
    "        gener.zero_grad()\n",
    "        label.fill_(real_label)  # fake labels are real for generator cost\n",
    "        # Since we just updated D, perform another forward pass of all-fake batch through D\n",
    "        output = discrim(fake)#.view(-1)\n",
    "        # Calculate G's loss based on this output\n",
    "        errG = criterion(output, label)\n",
    "        # Calculate gradients for G\n",
    "        errG.backward()\n",
    "        D_G_z2 = output.mean().item()\n",
    "\n",
    "        # Update G\n",
    "        optimizerG.step()\n",
    "        \n",
    "        W_trained = gener.l1.weight.data # get the weights of the generator which are the elements of W\n",
    "        # to ensure that the matrix stays close to the manifold of orthogonal matrices after each update\n",
    "        W_ortho = (1+beta)*W_trained - beta*torch.mm(torch.mm(W_trained, W_trained.t()), W_trained) \n",
    "        gener.l1.weight.data = W_ortho \n",
    "        \n",
    "        # Output training stats\n",
    "        if i % 50 == 0:\n",
    "            print('[%d/%d][%d/%d]\\tLoss_D: %.4f\\tLoss_G: %.4f\\tD(x): %.4f\\tD(G(z)): %.4f / %.4f'\n",
    "                  % (epoch, num_epochs, i, niter,\n",
    "                     errD.item(), errG.item(), D_x, D_G_z1, D_G_z2))\n",
    "        \n",
    "        # Save Losses for plotting later\n",
    "        G_losses.append(errG.item())\n",
    "        D_losses.append(errD.item())"
   ]
  },
  {
   "cell_type": "code",
   "execution_count": 15,
   "metadata": {},
   "outputs": [
    {
     "data": {
      "image/png": "[encoded data removed]",
      "text/plain": [
       "<Figure size 720x360 with 1 Axes>"
      ]
     },
     "metadata": {
      "needs_background": "light"
     },
     "output_type": "display_data"
    }
   ],
   "source": [
    "plt.figure(figsize=(10,5))\n",
    "plt.title(\"Generator and Discriminator Loss During Training\")\n",
    "plt.plot(G_losses,label=\"G\")\n",
    "plt.plot(D_losses,label=\"D\")\n",
    "plt.xlabel(\"iterations\")\n",
    "plt.ylabel(\"Loss\")\n",
    "plt.legend()\n",
    "plt.show()"
   ]
  },
  {
   "cell_type": "markdown",
   "metadata": {},
   "source": [
    "# Tests"
   ]
  },
  {
   "cell_type": "code",
   "execution_count": 16,
   "metadata": {},
   "outputs": [],
   "source": [
    "def prediction(W, new_word, k=5):\n",
    "    x = src_embeddings[src_word2id[new_word]] # embedding on of new_word in the source space\n",
    "    z = np.dot(W, x) # embedding of the translated word in the target space\n",
    "\n",
    "    # representation closest to z in the target language space, using cosine similarity as the distance metric\n",
    "    z_pred1 = np.argmax(cosine_similarity(z.reshape(1,300), tgt_embeddings))\n",
    "\n",
    "    # top k closest word embeddings in the target space\n",
    "    z_predk = cosine_similarity(z.reshape(1,300), tgt_embeddings)[0].argsort()[-k:][::-1]\n",
    "    \n",
    "    return [tgt_id2word[z_pred1]], [tgt_id2word[z_predk[i]] for i in range(len(z_predk))]  # return the id of the translated word"
   ]
  },
  {
   "cell_type": "code",
   "execution_count": 17,
   "metadata": {},
   "outputs": [
    {
     "name": "stdout",
     "output_type": "stream",
     "text": [
      "tensor([[ 0.0372,  0.0441,  0.0013],\n",
      "        [-0.0288,  0.0582, -0.0241],\n",
      "        [-0.0095, -0.1309,  0.0246]])\n"
     ]
    }
   ],
   "source": [
    "W_trained_test = gener.l1.weight.data\n",
    "print(W_trained_test[:3,:3])"
   ]
  },
  {
   "cell_type": "code",
   "execution_count": 18,
   "metadata": {},
   "outputs": [
    {
     "name": "stdout",
     "output_type": "stream",
     "text": [
      "Top 1 translation for 'bateau' is : ['ever']\n",
      "Top 5 translations for 'bateau' are : ['ever', 'champions', 'technologically', 'championship', 'materially']\n"
     ]
    }
   ],
   "source": [
    "# just a litte test\n",
    "top1, top5 = prediction(W_trained_test, \"bateau\", k=5)\n",
    "print(\"Top 1 translation for 'bateau' is :\", top1)\n",
    "print(\"Top 5 translations for 'bateau' are :\", top5)"
   ]
  },
  {
   "cell_type": "code",
   "execution_count": 19,
   "metadata": {},
   "outputs": [
    {
     "name": "stdout",
     "output_type": "stream",
     "text": [
      "['ever', 'champions', 'technologically', 'championship', 'materially']\n",
      "--\n",
      "['loggins', 'brecker', 'flanagan', 'kelly', 'brubeck']\n",
      "--\n",
      "['methodist', 'promptly', 'carl', 'methodism', 'likewise']\n",
      "--\n",
      "['annoy', 'so', 'piss', 'hurting', 'therefore']\n",
      "--\n",
      "['glad', 'regret', 'adamant', 'commented', 'terrific']\n",
      "--\n"
     ]
    }
   ],
   "source": [
    "src_words = ['bateau', 'maison', 'argent', 'ordinateur', 'dieu']\n",
    "tgt_words = []\n",
    "for i in range(0,len(src_words)):\n",
    "    top1, top5 = prediction(W_trained_test.numpy(), src_words[i], k=5) #top 1: english word (target)\n",
    "    tgt_words.append(top1[0])\n",
    "    print(top5)\n",
    "    print('--')"
   ]
  },
  {
   "cell_type": "code",
   "execution_count": null,
   "metadata": {},
   "outputs": [],
   "source": [
    "# 2 possibles functions of accuracy = \n",
    "# - Test if we traduced well the word = sum Indicatrice(Wxi!=zi) (en gros nb de mots mal traduits) # en fait non c'est con on a pas les traductions\n",
    "# - Test how far we are from the \"supposed\" translation\n",
    "# compute Wxi find the closest z (SUPPOSED TO BE ITS TRANSLATION) and cumpute eculidian distance\n",
    "def test_accuracy(X_text,W_trained):\n",
    "    loss = 0\n",
    "    for x in X_test : # get all french words\n",
    "        word2id = {v: k for k, v in src_id2word.items()}\n",
    "        word_emb_new = np.dot(W_trained, x)\n",
    "        scores = (tgt_embeddings / np.linalg.norm(tgt_embeddings, 2, 1)[:, None]).dot(word_emb_new / np.linalg.norm(word_emb_new))\n",
    "        best = scores.argsort()[-1:][::-1]\n",
    "        nearest_eng_emb = src_embeddings[best]\n",
    "        loss = loss + np.linalg.norm(word_emb_new-nearest_eng_emb)  \n",
    "    return(loss)\n",
    "    \n",
    "# Pous savoir si le model est pertinent tester l'accuracy pour W_trained a epoch 1,5,10                             "
   ]
  },
  {
   "cell_type": "code",
   "execution_count": null,
   "metadata": {},
   "outputs": [],
   "source": [
    "rand_test_word_id = torch.Tensor(30).random_(nmax).long()\n",
    "X_test = src_embeddings[rand_test_word_id.numpy()] # GARDER LES MEMES POUR LES TESTS\n",
    "\n",
    "test_accuracy(X_test,W_trained_test)"
   ]
  },
  {
   "cell_type": "code",
   "execution_count": null,
   "metadata": {},
   "outputs": [],
   "source": [
    "# construct a translation French to English dictionary\n",
    "def prediction_dict(dico, W, k):\n",
    "    dico_pred1 = {}\n",
    "    dico_predk = {}\n",
    "    i = 0\n",
    "    for word in dico.keys() :\n",
    "        if (i%100==0):\n",
    "            print(\"Progress :\", round(i/len(dico_test)*100,1), \"%\")\n",
    "        dico_pred1[word], dico_predk[word] = prediction(W, word, k) # lists\n",
    "        i += 1\n",
    "    print(\"Done...\")\n",
    "    return dico_pred1, dico_predk"
   ]
  },
  {
   "cell_type": "code",
   "execution_count": null,
   "metadata": {},
   "outputs": [],
   "source": [
    "# k-top accuracy (\"acc@k\")\n",
    "k = 5\n",
    "\n",
    "dico_pred1, dico_predk = prediction_dict(dico_test, W_trained_test, k) "
   ]
  },
  {
   "cell_type": "code",
   "execution_count": null,
   "metadata": {},
   "outputs": [],
   "source": [
    "# measure of the accuracy of the dictionnary\n",
    "# output is a list\n",
    "def accuracy(dpred1, dpredk, dico):\n",
    "    acc1 = [0]\n",
    "    acck = [0]\n",
    "    \n",
    "    for key in dico.keys():\n",
    "        add1, addk = 0, 0\n",
    "        \n",
    "        if dico[key] == dpred1[key][0]:\n",
    "            add1 = 1\n",
    "        acc1.append(acc1[-1] + add1)  \n",
    "    \n",
    "        for i in np.arange(k):\n",
    "            if dico[key] == dpredk[key][i]:\n",
    "                addk = 1\n",
    "                break   \n",
    "        acck.append(acck[-1] + addk) \n",
    "    \n",
    "    acc1 = [i/len(dico) for i in acc1]   \n",
    "    acck = [i/len(dico) for i in acck]\n",
    "    \n",
    "    return acc1, acck # nb de mots bien prédits/nb de mots total     "
   ]
  },
  {
   "cell_type": "code",
   "execution_count": null,
   "metadata": {},
   "outputs": [],
   "source": [
    "acc1_test, acck_test = accuracy(dico_pred1, dico_predk, dico_test)"
   ]
  },
  {
   "cell_type": "code",
   "execution_count": null,
   "metadata": {},
   "outputs": [],
   "source": [
    "plt.plot(acc1_test, label=\"Acc_1\")\n",
    "plt.plot(acck_test,label=\"Acc_k\")\n",
    "plt.plot([i/len(dico_test) for i in range(len(dico_test))],label=\"identity\",alpha=0.4)\n",
    "plt.ylabel('Accuracy (%)')\n",
    "plt.xlabel('Iteration')\n",
    "plt.title(\"Accuracy test set (Gradient Descent method)\")\n",
    "plt.legend()\n",
    "plt.show()\n",
    "\n",
    "print(\"Gradient descent method :\")\n",
    "print(\"Final accuracy @1 =\", round(acc1_test[-1]*100, 2), \"%\")\n",
    "print(\"Final accuracy @5 =\", round(acck_test[-1]*100, 2), \"%\")"
   ]
  },
  {
   "cell_type": "markdown",
   "metadata": {},
   "source": [
    "## How to pair words\n",
    "\n",
    "CSLS tentative"
   ]
  },
  {
   "cell_type": "code",
   "execution_count": null,
   "metadata": {},
   "outputs": [],
   "source": [
    "k = 5 # hyper parameter K-NN\n",
    "CSLS = np.zeros(nmax)\n",
    "\n",
    "def CSLS_measure(W, new_word, k):\n",
    "    x = src_embeddings[src_word2id[new_word]] # embeddings of new_word in the source space\n",
    "    z = np.dot(W, x).reshape(-1,300) # embeddings of the translated word in the target space\n",
    "    \n",
    "    knn = NearestNeighbors(n_neighbors=k, algorithm='auto')\n",
    "    for t in range(tgt_embeddings.shape[0]):\n",
    "        dist_tgt_nn_z, index_tgt_nn_z = knn.kneighbors(z)\n",
    "        emb_tgt_nn_z = tgt_embeddings[index_tgt_nn_z[0][:]].reshape(-1,300) # embeddings of the k-nn in the tgt space\n",
    "        r_T = (1/k)*sum(cosine_similarity(z, emb_tgt_nn_z))\n",
    "        \n",
    "        dist_tgt_nn_yt, index_tgt_nn_yt = knn.kneighbors(tgt_embeddings[t])\n",
    "        emb_tgt_nn_yt = tgt_embeddings[index_tgt_nn_yt[0][:]].reshape(-1,300) \n",
    "        r_S = (1/k)*sum(cosine_similarity(tgt_embeddings[t], emb_tgt_nn_yt))\n",
    "        \n",
    "        CSLS[t] = 2*cosine_similarity(z, tgt_embeddings[t]) - r_T - r_S\n",
    "    CSLS = np.argmax(CSLS)\n",
    "        \n",
    "    return CSLS"
   ]
  }
 ],
 "metadata": {
  "kernelspec": {
   "display_name": "Python 3",
   "language": "python",
   "name": "python3"
  },
  "language_info": {
   "codemirror_mode": {
    "name": "ipython",
    "version": 3
   },
   "file_extension": ".py",
   "mimetype": "text/x-python",
   "name": "python",
   "nbconvert_exporter": "python",
   "pygments_lexer": "ipython3",
   "version": "3.7.4"
  }
 },
 "nbformat": 4,
 "nbformat_minor": 2
}
