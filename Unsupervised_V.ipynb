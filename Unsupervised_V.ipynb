{
 "cells": [
  {
   "cell_type": "markdown",
   "metadata": {},
   "source": [
    "# Build an efficient unsupervised word translator\n",
    "\n",
    "Based on : \"Word Translation Without Parallel Data\" by Alexis Conneau, Guillaume Lample, Marc Aurelio Ranzato, Ludovic Denoyer & Hervé Jégou (2017)"
   ]
  },
  {
   "cell_type": "code",
   "execution_count": 20,
   "metadata": {},
   "outputs": [],
   "source": [
    "import io\n",
    "\n",
    "import numpy as np\n",
    "import matplotlib.pyplot as plt\n",
    "import math\n",
    "\n",
    "import torch\n",
    "from torch import nn\n",
    "import torch.optim as optim\n",
    "import torch.nn.functional as F\n",
    "#from torch.autograd.variable import Variable\n",
    "\n",
    "from scipy.stats import special_ortho_group\n",
    "\n",
    "#from sklearn.metrics.pairwise import cosine_similarity"
   ]
  },
  {
   "cell_type": "code",
   "execution_count": 21,
   "metadata": {},
   "outputs": [],
   "source": [
    "# load function for pretrained versions of word embeddings\n",
    "def load_embeddings(emb_path, nmax=50000):\n",
    "    vectors = []\n",
    "    word2id = {}\n",
    "    with io.open(emb_path, 'r', encoding='utf-8', newline='\\n', errors='ignore') as f:\n",
    "        next(f)\n",
    "        for i, line in enumerate(f):\n",
    "            word, vect = line.rstrip().split(' ', 1)\n",
    "            vect = np.fromstring(vect, sep=' ')\n",
    "            assert word not in word2id, 'word found twice'\n",
    "            vectors.append(vect)\n",
    "            word2id[word] = len(word2id)\n",
    "            if len(word2id) == nmax:\n",
    "                break\n",
    "    id2word = {v: k for k, v in word2id.items()}\n",
    "    embeddings = np.vstack(vectors)\n",
    "    return embeddings, id2word, word2id"
   ]
  },
  {
   "cell_type": "code",
   "execution_count": 22,
   "metadata": {},
   "outputs": [],
   "source": [
    "##########\n",
    "eng_path = '/Users/louismonier/Downloads/Monolingual/wiki.en.vec' \n",
    "fr_path = '/Users/louismonier/Downloads/Monolingual/wiki.fr.vec'\n",
    "##########\n",
    "#eng_path = '/Users/vince/DataProjetNLP/wiki.en.vec'\n",
    "#fr_path = '/Users/vince/DataProjetNLP/wiki.fr.vec'\n",
    "##########\n",
    "nmax = 50000  # maximum number of word embeddings to load\n",
    "\n",
    "# load monolingual word embeddings \n",
    "src_embeddings, src_id2word, src_word2id = load_embeddings(fr_path, nmax) # source = french \n",
    "tgt_embeddings, tgt_id2word, tgt_word2id = load_embeddings(eng_path, nmax) # target = english"
   ]
  },
  {
   "cell_type": "code",
   "execution_count": 23,
   "metadata": {},
   "outputs": [],
   "source": [
    "# load ground-truth bilingual dictionaries function\n",
    "def load_dic(path):\n",
    "    dico_full = {}\n",
    "    vectors_src=[]\n",
    "    vectors_tgt = []\n",
    "    with io.open(path,'r',encoding='utf_8') as f:\n",
    "        for i,line in enumerate(f):\n",
    "            word_src, word_tgt = line.rstrip().split(' ',1)\n",
    "            if word_tgt in tgt_word2id :\n",
    "                dico_full[word_src]=word_tgt\n",
    "    for key in dico_full.keys() :\n",
    "            vectors_src.append(src_embeddings[src_word2id[key]])\n",
    "            vectors_tgt.append(tgt_embeddings[tgt_word2id[dico_full[key]]])\n",
    "    X = np.vstack(vectors_src)\n",
    "    Z = np.vstack (vectors_tgt)\n",
    "    return dico_full,X,Z"
   ]
  },
  {
   "cell_type": "code",
   "execution_count": 24,
   "metadata": {},
   "outputs": [
    {
     "name": "stdout",
     "output_type": "stream",
     "text": [
      "<class 'numpy.ndarray'>\n",
      "<class 'torch.Tensor'>\n"
     ]
    }
   ],
   "source": [
    "# train & test bilingual dictionaries\n",
    "##########\n",
    "path_train = r'/Users/louismonier/Downloads/Monolingual/fr-en.0-5000.txt' \n",
    "path_test = r'/Users/louismonier/Downloads/Monolingual/fr-en.5000-6500.txt'\n",
    "##########\n",
    "#path_train = '/Users/vince/DataProjetNLP/fr-en.0-5000.txt' \n",
    "#path_test = '/Users/vince/DataProjetNLP/fr-en.5000-6500.txt'\n",
    "##########\n",
    "\n",
    "dico_train, X_train, Z_train = load_dic(path_train)\n",
    "dico_test, X_test, Z_test = load_dic(path_test)\n",
    "\n",
    "# convert embeddings vectors into torch tensors \n",
    "print(type(X_train[0]))\n",
    "X_train, Z_train, X_test, Z_test = map(torch.tensor, (X_train, Z_train, X_test, Z_test)) \n",
    "print(type(X_train[0]))"
   ]
  },
  {
   "cell_type": "code",
   "execution_count": 25,
   "metadata": {
    "scrolled": false
   },
   "outputs": [
    {
     "name": "stdout",
     "output_type": "stream",
     "text": [
      "4971 training samples\n",
      "1483 test samples\n",
      "Vectors dimension : 300\n"
     ]
    }
   ],
   "source": [
    "print(X_train.shape[0], \"training samples\")\n",
    "print(X_test.shape[0], \"test samples\")\n",
    "dim = X_train.shape[1]\n",
    "print(\"Vectors dimension :\", dim)"
   ]
  },
  {
   "cell_type": "markdown",
   "metadata": {},
   "source": [
    "## Build the discriminator \n",
    "\n",
    "Recall what is the objective of the discriminator here : ..."
   ]
  },
  {
   "cell_type": "code",
   "execution_count": 26,
   "metadata": {},
   "outputs": [],
   "source": [
    "class Discriminator(nn.Module):\n",
    "    def __init__(self, dim):\n",
    "        super(Discriminator,self).__init__()\n",
    "        self.h1 = nn.Linear(dim, 2048,bias=True) # 1st hidden layer\n",
    "        self.h2 = nn.Linear(2048,2048,bias=True) # 2nd hidden layer\n",
    "        self.out = nn.Linear(2048,1,bias=True) # output layer\n",
    "        \n",
    "    def forward(self, x):\n",
    "        x = F.dropout(x, p = 0.1) # dropout pour ajouter du bruit\n",
    "        x = F.leaky_relu(self.h1(x), negative_slope=0.2)\n",
    "        x = F.leaky_relu(self.h2(x), negative_slope=0.2)\n",
    "        y = torch.sigmoid(self.out(x)) # ouput = proba\n",
    "        return y"
   ]
  },
  {
   "cell_type": "markdown",
   "metadata": {},
   "source": [
    "## Build the generator \n",
    "\n",
    "Recall what is the objective of the discriminator here : ..."
   ]
  },
  {
   "cell_type": "code",
   "execution_count": 27,
   "metadata": {},
   "outputs": [],
   "source": [
    "# simple linear function \n",
    "# can be seen at a neural network whose weights are elements of W \n",
    "class Generator(nn.Module):\n",
    "    def __init__(self, dim):\n",
    "        super(Generator, self).__init__()\n",
    "        self.l1 = nn.Linear(dim, dim, bias=False)\n",
    "\n",
    "    def forward(self,x):\n",
    "        y = self.l1(x)\n",
    "        return y"
   ]
  },
  {
   "cell_type": "markdown",
   "metadata": {},
   "source": [
    "## It's time to train "
   ]
  },
  {
   "cell_type": "code",
   "execution_count": 49,
   "metadata": {},
   "outputs": [],
   "source": [
    "discrim = Discriminator(dim)\n",
    "gen = Generator(dim)"
   ]
  },
  {
   "cell_type": "code",
   "execution_count": 50,
   "metadata": {},
   "outputs": [],
   "source": [
    "LossD = nn.BCELoss()\n",
    "LossG = nn.BCELoss()\n",
    "\n",
    "optimD = optim.SGD(discrim.parameters(), lr=0.1)\n",
    "optimG = optim.SGD(gen.parameters(), lr=0.1)"
   ]
  },
  {
   "cell_type": "code",
   "execution_count": 51,
   "metadata": {},
   "outputs": [
    {
     "name": "stdout",
     "output_type": "stream",
     "text": [
      "tensor([[ 0.0516, -0.0409,  0.0145],\n",
      "        [ 0.0419, -0.0046,  0.0442],\n",
      "        [ 0.0346,  0.0510,  0.0031]])\n"
     ]
    }
   ],
   "source": [
    "print(gen.l1.weight.data[:3,:3])"
   ]
  },
  {
   "cell_type": "code",
   "execution_count": 52,
   "metadata": {
    "scrolled": true
   },
   "outputs": [
    {
     "name": "stderr",
     "output_type": "stream",
     "text": [
      "/opt/miniconda3/lib/python3.7/site-packages/ipykernel_launcher.py:8: UserWarning: To copy construct from a tensor, it is recommended to use sourceTensor.clone().detach() or sourceTensor.clone().detach().requires_grad_(True), rather than torch.tensor(sourceTensor).\n",
      "  \n"
     ]
    },
    {
     "name": "stdout",
     "output_type": "stream",
     "text": [
      "epoch = 1, iteration = 0\n",
      "epoch = 1, iteration = 10\n",
      "epoch = 1, iteration = 20\n",
      "epoch = 1, iteration = 30\n",
      "epoch = 1, iteration = 40\n",
      "epoch = 1, iteration = 50\n",
      "epoch = 1, iteration = 60\n",
      "epoch = 1, iteration = 70\n",
      "epoch = 1, iteration = 80\n",
      "epoch = 1, iteration = 90\n",
      "epoch = 1, iteration = 100\n",
      "epoch = 1, iteration = 110\n",
      "epoch = 1, iteration = 120\n",
      "epoch = 1, iteration = 130\n",
      "epoch = 1, iteration = 140\n",
      "epoch = 1, iteration = 150\n",
      "epoch = 1, iteration = 160\n",
      "epoch = 1, iteration = 170\n",
      "epoch = 1, iteration = 180\n",
      "epoch = 1, iteration = 190\n",
      "epoch = 1, iteration = 200\n",
      "epoch = 1, iteration = 210\n",
      "epoch = 1, iteration = 220\n",
      "epoch = 1, iteration = 230\n",
      "epoch = 1, iteration = 240\n",
      "epoch = 1, iteration = 250\n",
      "epoch = 1, iteration = 260\n",
      "epoch = 1, iteration = 270\n",
      "epoch = 1, iteration = 280\n",
      "epoch = 1, iteration = 290\n",
      "epoch = 1, iteration = 300\n",
      "epoch = 1, iteration = 310\n",
      "epoch = 1, iteration = 320\n",
      "epoch = 1, iteration = 330\n",
      "epoch = 1, iteration = 340\n",
      "epoch = 1, iteration = 350\n",
      "epoch = 1, iteration = 360\n",
      "epoch = 1, iteration = 370\n",
      "epoch = 1, iteration = 380\n",
      "epoch = 1, iteration = 390\n",
      "epoch = 1, iteration = 400\n",
      "epoch = 1, iteration = 410\n",
      "epoch = 1, iteration = 420\n",
      "epoch = 1, iteration = 430\n",
      "epoch = 1, iteration = 440\n",
      "epoch = 1, iteration = 450\n",
      "epoch = 1, iteration = 460\n",
      "epoch = 1, iteration = 470\n",
      "epoch = 1, iteration = 480\n",
      "epoch = 1, iteration = 490\n",
      "epoch = 1, iteration = 500\n",
      "epoch = 1, iteration = 510\n",
      "epoch = 1, iteration = 520\n",
      "epoch = 1, iteration = 530\n",
      "epoch = 1, iteration = 540\n",
      "epoch = 1, iteration = 550\n",
      "epoch = 1, iteration = 560\n",
      "epoch = 1, iteration = 570\n",
      "epoch = 1, iteration = 580\n",
      "epoch = 1, iteration = 590\n",
      "epoch = 1, iteration = 600\n",
      "epoch = 1, iteration = 610\n",
      "epoch = 1, iteration = 620\n",
      "epoch = 1, iteration = 630\n",
      "epoch = 1, iteration = 640\n",
      "epoch = 1, iteration = 650\n",
      "epoch = 1, iteration = 660\n",
      "epoch = 1, iteration = 670\n",
      "epoch = 1, iteration = 680\n",
      "epoch = 1, iteration = 690\n",
      "epoch = 1, iteration = 700\n",
      "epoch = 1, iteration = 710\n",
      "epoch = 1, iteration = 720\n",
      "epoch = 1, iteration = 730\n",
      "epoch = 1, iteration = 740\n",
      "epoch = 1, iteration = 750\n",
      "epoch = 1, iteration = 760\n",
      "epoch = 1, iteration = 770\n",
      "epoch = 1, iteration = 780\n",
      "epoch = 1, iteration = 790\n",
      "epoch = 1, iteration = 800\n",
      "epoch = 1, iteration = 810\n",
      "epoch = 1, iteration = 820\n",
      "epoch = 1, iteration = 830\n",
      "epoch = 1, iteration = 840\n",
      "epoch = 1, iteration = 850\n",
      "epoch = 1, iteration = 860\n",
      "epoch = 1, iteration = 870\n",
      "epoch = 1, iteration = 880\n",
      "epoch = 1, iteration = 890\n",
      "epoch = 1, iteration = 900\n",
      "epoch = 1, iteration = 910\n",
      "epoch = 1, iteration = 920\n",
      "epoch = 1, iteration = 930\n",
      "epoch = 1, iteration = 940\n",
      "epoch = 1, iteration = 950\n",
      "epoch = 1, iteration = 960\n",
      "epoch = 1, iteration = 970\n",
      "epoch = 1, iteration = 980\n",
      "epoch = 1, iteration = 990\n"
     ]
    }
   ],
   "source": [
    "#for epoch in range(3): #3 Epochs \n",
    "LD = []\n",
    "LG = []\n",
    "\n",
    "N = 32 # nb of \"fake\" tgt // Wx\n",
    "M = 32 # nb of \"true\" tgt // y\n",
    "\n",
    "gen.l1.weight.data = torch.tensor(W,dtype=torch.float) # ini of generator's weights in SO(300)\n",
    "beta = 0.01\n",
    "\n",
    "# ini the weights of the gen\n",
    "#for pg in gen.parameters():\n",
    " #   pg.data = W\n",
    "\n",
    "niter = 1000\n",
    "nb_d = 1\n",
    "nb_g = 5\n",
    "for epoch in range(1): #3 epochs \n",
    "    for iteration in range(niter):\n",
    "        if iteration % 10 == 0 :\n",
    "            print(\"epoch = %d, iteration = %d\"%(1,iteration))\n",
    "\n",
    "        # DISCRIMINATOR TRAINING\n",
    "        for i in range(nb_d):\n",
    "            # set the discrimintator training mode to True\n",
    "            discrim.train()\n",
    "\n",
    "            # set descrim gradient to zero before computation at every step\n",
    "            optimD.zero_grad()\n",
    "\n",
    "            ## create a new batch of N fake & M true data to train the discriminator\n",
    "            # generate N random words from the source \n",
    "            rand_src_word_id = torch.Tensor(N).random_(nmax).long()\n",
    "            src_word_emb = src_embeddings[rand_src_word_id.numpy()]\n",
    "            src_word_emb = torch.tensor(src_word_emb, dtype=torch.float) # conversion to tensor\n",
    "\n",
    "            wsrc_gen = gen(src_word_emb) # translated words (Wx)\n",
    "\n",
    "            # generate M random words from the target\n",
    "            rand_tgt_word_id = torch.Tensor(M).random_(nmax).long()\n",
    "            tgt_word_emb = tgt_embeddings[rand_tgt_word_id.numpy()]\n",
    "            tgt_word_emb = torch.tensor(tgt_word_emb, dtype=torch.float) # conversion to tensor\n",
    "\n",
    "            # concatenation of Wx and y aka traductions and tgt words\n",
    "            input_tensor = torch.cat([wsrc_gen, tgt_word_emb],0)\n",
    "\n",
    "            # output tensor is the answer the discriminator should give\n",
    "            output_tensor = torch.Tensor(N+M, 1).zero_().float()\n",
    "\n",
    "            # we can smooth the answer by creating thresholds (# 0.8 # smoothing 80% # smoothing 20%)\n",
    "            output_tensor[:N] = 0.8 # discrim should predict 100% proba of belonging to the src \n",
    "            output_tensor[N:] = 0.2 # discrim should predict 100% proba of belonging to the tgt \n",
    "\n",
    "            # prediction of the discriminator\n",
    "            prediction = discrim(input_tensor)\n",
    "\n",
    "            # compute loss & propogate backward\n",
    "            lossDISC = LossD(prediction, output_tensor)\n",
    "            \n",
    "            if i+1==nb_d:\n",
    "                LD.append(lossDISC)\n",
    "\n",
    "            lossDISC.backward()\n",
    "            optimD.step()\n",
    "\n",
    "##########################################################################################\n",
    "\n",
    "        # GENERATOR TRAINING\n",
    "        for j in range(nb_g):\n",
    "            \n",
    "            # set the discrimintator training mode to False \n",
    "            discrim.eval()\n",
    "\n",
    "            # set descrim gradient to zero before computation at every step\n",
    "            optimG.zero_grad()\n",
    "\n",
    "            ## create a new batch of N fake & M true data to train the generator\n",
    "            # generate 32 random words from the source \n",
    "            rand_src_word_id = torch.Tensor(N).random_(nmax).long()\n",
    "            src_word_emb = src_embeddings[rand_src_word_id.numpy()]\n",
    "            src_word_emb = torch.tensor(src_word_emb, dtype=torch.float) # conversion to tensor\n",
    "\n",
    "            wsrc_gen = gen(src_word_emb) # translated words (Wx)\n",
    "\n",
    "            # generate 32 random words from the target\n",
    "            rand_tgt_word_id = torch.Tensor(M).random_(nmax).long()\n",
    "            tgt_word_emb = tgt_embeddings[rand_tgt_word_id.numpy()]\n",
    "            tgt_word_emb = torch.tensor(tgt_word_emb, dtype=torch.float) # conversion to tensor    \n",
    "\n",
    "            # concatenation of Wx and y aka traductions and tgt words\n",
    "            input_tensor = torch.cat([wsrc_gen, tgt_word_emb],0)\n",
    "\n",
    "            # output tensor is the answer the discriminator should give\n",
    "            output_tensor = torch.Tensor(N+M, 1).zero_().float()\n",
    "\n",
    "            # we can smooth the answer by creating thresholds (# 0.8 # smoothing 80% # smoothing 20%)\n",
    "            output_tensor[:N] = 0.8 # discrim should predict 100% proba of belonging to the src \n",
    "            output_tensor[N:] = 0.2 # discrim should predict 100% proba of belonging to the tgt \n",
    "\n",
    "            # prediction of the discriminator on the new batch\n",
    "            prediction = discrim(input_tensor)\n",
    "\n",
    "            # compute loss & propogate backward\n",
    "            # the discriminator is fooled if he predicts the contrary of what he should have predicted\n",
    "            gen_contrary = 1 - output_tensor\n",
    "            lossGEN = LossG(prediction, gen_contrary)\n",
    "            \n",
    "            lossGEN.backward()\n",
    "            optimG.step()\n",
    "            \n",
    "            if j+1==nb_g:\n",
    "                LG.append(lossGEN)\n",
    "        \n",
    "            W_trained = gen.l1.weight.data # get the weights of the generator which are the elements of W\n",
    "\n",
    "            # to ensure that the matrix stays close to the manifold of orthogonal matrices after each update\n",
    "            W_ortho = (1+beta)*W_trained - beta*torch.mm(torch.mm(W_trained, W_trained.t()), W_trained) \n",
    "            gen.l1.weight.data = W_ortho "
   ]
  },
  {
   "cell_type": "code",
   "execution_count": 53,
   "metadata": {},
   "outputs": [
    {
     "data": {
      "text/plain": [
       "<matplotlib.legend.Legend at 0x1a33708a10>"
      ]
     },
     "execution_count": 53,
     "metadata": {},
     "output_type": "execute_result"
    },
    {
     "data": {
      "image/png": "[encoded data removed]",
      "text/plain": [
       "<Figure size 432x288 with 1 Axes>"
      ]
     },
     "metadata": {
      "needs_background": "light"
     },
     "output_type": "display_data"
    }
   ],
   "source": [
    "plt.plot(LD, label='loss discrim')\n",
    "plt.plot(LG, label='loss gen')\n",
    "plt.legend()"
   ]
  },
  {
   "cell_type": "code",
   "execution_count": 54,
   "metadata": {},
   "outputs": [
    {
     "name": "stdout",
     "output_type": "stream",
     "text": [
      "tensor([[ 9.7287e-01, -9.0329e-03, -6.4241e-05],\n",
      "        [ 5.0251e-03,  9.9015e-01, -8.9929e-03],\n",
      "        [ 1.4892e-02,  8.3048e-04,  9.7360e-01]])\n"
     ]
    }
   ],
   "source": [
    "print(gen.l1.weight.data[:3,:3])"
   ]
  },
  {
   "cell_type": "code",
   "execution_count": null,
   "metadata": {},
   "outputs": [],
   "source": []
  },
  {
   "cell_type": "code",
   "execution_count": null,
   "metadata": {},
   "outputs": [],
   "source": []
  },
  {
   "cell_type": "code",
   "execution_count": null,
   "metadata": {},
   "outputs": [],
   "source": []
  },
  {
   "cell_type": "code",
   "execution_count": null,
   "metadata": {},
   "outputs": [],
   "source": []
  },
  {
   "cell_type": "code",
   "execution_count": null,
   "metadata": {},
   "outputs": [],
   "source": [
    "# 2 possibles functions of accuracy = \n",
    "# - Test if we traduced well the word = sum Indicatrice(Wxi!=zi) (en gros nb de mots mal traduits) # en fait non c'est con on a pas les traductions\n",
    "# - Test how far we are from the \"supposed\" translation\n",
    "# compute Wxi find the closest z (SUPPOSED TO BE ITS TRANSLATION) and cumpute eculidian distance\n",
    "\n",
    "rand_test_word_id = torch.Tensor(30).random_(nmax).long()\n",
    "X_test = src_embeddings[rand_test_word_id.numpy()] # GARDER LES MEMES POUR LES TESTS\n",
    "\n",
    "\n",
    "\n",
    "def test_accuracy(X_text,W_trained):\n",
    "    loss = 0\n",
    "    for x in X_test : #get all french words\n",
    "        word2id = {v: k for k, v in src_id2word.items()}\n",
    "        word_emb_new = np.dot(W_trained,x)\n",
    "        scores = (tgt_embeddings / np.linalg.norm(tgt_embeddings, 2, 1)[:, None]).dot(word_emb_new / np.linalg.norm(word_emb_new))\n",
    "        best = scores.argsort()[-1:][::-1]\n",
    "        nearest_eng_emb = src_embeddings[best]\n",
    "        loss = loss + np.linalg.norm(word_emb_new-nearest_eng_emb)  \n",
    "    return(loss)\n",
    "    \n",
    "#Pous savoir si le model est pertinent tester l'accuracy pour W_trained a epoch 1,5,10\n",
    "                             "
   ]
  }
 ],
 "metadata": {
  "kernelspec": {
   "display_name": "Python 3",
   "language": "python",
   "name": "python3"
  },
  "language_info": {
   "codemirror_mode": {
    "name": "ipython",
    "version": 3
   },
   "file_extension": ".py",
   "mimetype": "text/x-python",
   "name": "python",
   "nbconvert_exporter": "python",
   "pygments_lexer": "ipython3",
   "version": "3.7.4"
  }
 },
 "nbformat": 4,
 "nbformat_minor": 2
}
