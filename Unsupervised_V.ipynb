{
 "cells": [
  {
   "cell_type": "markdown",
   "metadata": {},
   "source": [
    "# Build an efficient unsupervised word translator\n",
    "\n",
    "Based on : \"Word Translation Without Parallel Data\" by Alexis Conneau, Guillaume Lample, Marc Aurelio Ranzato, Ludovic Denoyer & Hervé Jégou (2017)"
   ]
  },
  {
   "cell_type": "code",
   "execution_count": 1,
   "metadata": {},
   "outputs": [],
   "source": [
    "import io\n",
    "\n",
    "import numpy as np\n",
    "import matplotlib.pyplot as plt\n",
    "import math\n",
    "\n",
    "import torch\n",
    "from torch import nn\n",
    "import torch.optim as optim\n",
    "import torch.nn.functional as F\n",
    "#from torch.autograd.variable import Variable\n",
    "\n",
    "from scipy.stats import special_ortho_group\n",
    "\n",
    "#from sklearn.metrics.pairwise import cosine_similarity"
   ]
  },
  {
   "cell_type": "code",
   "execution_count": 2,
   "metadata": {},
   "outputs": [],
   "source": [
    "# load function for pretrained versions of word embeddings\n",
    "def load_embeddings(emb_path, nmax=50000):\n",
    "    vectors = []\n",
    "    word2id = {}\n",
    "    with io.open(emb_path, 'r', encoding='utf-8', newline='\\n', errors='ignore') as f:\n",
    "        next(f)\n",
    "        for i, line in enumerate(f):\n",
    "            word, vect = line.rstrip().split(' ', 1)\n",
    "            vect = np.fromstring(vect, sep=' ')\n",
    "            assert word not in word2id, 'word found twice'\n",
    "            vectors.append(vect)\n",
    "            word2id[word] = len(word2id)\n",
    "            if len(word2id) == nmax:\n",
    "                break\n",
    "    id2word = {v: k for k, v in word2id.items()}\n",
    "    embeddings = np.vstack(vectors)\n",
    "    return embeddings, id2word, word2id"
   ]
  },
  {
   "cell_type": "code",
   "execution_count": 3,
   "metadata": {},
   "outputs": [],
   "source": [
    "##########\n",
    "eng_path = '/Users/louismonier/Downloads/Monolingual/wiki.en.vec' \n",
    "fr_path = '/Users/louismonier/Downloads/Monolingual/wiki.fr.vec'\n",
    "##########\n",
    "#eng_path = '/Users/vince/DataProjetNLP/wiki.en.vec'\n",
    "#fr_path = '/Users/vince/DataProjetNLP/wiki.fr.vec'\n",
    "##########\n",
    "nmax = 50000  # maximum number of word embeddings to load\n",
    "\n",
    "# load monolingual word embeddings \n",
    "src_embeddings, src_id2word, src_word2id = load_embeddings(fr_path, nmax) # source = french \n",
    "tgt_embeddings, tgt_id2word, tgt_word2id = load_embeddings(eng_path, nmax) # target = english"
   ]
  },
  {
   "cell_type": "code",
   "execution_count": 4,
   "metadata": {},
   "outputs": [],
   "source": [
    "# load ground-truth bilingual dictionaries function\n",
    "def load_dic(path):\n",
    "    dico_full = {}\n",
    "    vectors_src=[]\n",
    "    vectors_tgt = []\n",
    "    with io.open(path,'r',encoding='utf_8') as f:\n",
    "        for i,line in enumerate(f):\n",
    "            word_src, word_tgt = line.rstrip().split(' ',1)\n",
    "            if word_tgt in tgt_word2id :\n",
    "                dico_full[word_src]=word_tgt\n",
    "    for key in dico_full.keys() :\n",
    "            vectors_src.append(src_embeddings[src_word2id[key]])\n",
    "            vectors_tgt.append(tgt_embeddings[tgt_word2id[dico_full[key]]])\n",
    "    X = np.vstack(vectors_src)\n",
    "    Z = np.vstack (vectors_tgt)\n",
    "    return dico_full,X,Z"
   ]
  },
  {
   "cell_type": "code",
   "execution_count": 5,
   "metadata": {},
   "outputs": [
    {
     "name": "stdout",
     "output_type": "stream",
     "text": [
      "<class 'numpy.ndarray'>\n",
      "<class 'torch.Tensor'>\n"
     ]
    }
   ],
   "source": [
    "# train & test bilingual dictionaries\n",
    "##########\n",
    "path_train = r'/Users/louismonier/Downloads/Monolingual/fr-en.0-5000.txt' \n",
    "path_test = r'/Users/louismonier/Downloads/Monolingual/fr-en.5000-6500.txt'\n",
    "##########\n",
    "#path_train = '/Users/vince/DataProjetNLP/fr-en.0-5000.txt' \n",
    "#path_test = '/Users/vince/DataProjetNLP/fr-en.5000-6500.txt'\n",
    "##########\n",
    "\n",
    "dico_train, X_train, Z_train = load_dic(path_train)\n",
    "dico_test, X_test, Z_test = load_dic(path_test)\n",
    "\n",
    "# convert embeddings vectors into torch tensors \n",
    "print(type(X_train[0]))\n",
    "X_train, Z_train, X_test, Z_test = map(torch.tensor, (X_train, Z_train, X_test, Z_test)) \n",
    "print(type(X_train[0]))"
   ]
  },
  {
   "cell_type": "code",
   "execution_count": 6,
   "metadata": {
    "scrolled": false
   },
   "outputs": [
    {
     "name": "stdout",
     "output_type": "stream",
     "text": [
      "4971 training samples\n",
      "1483 test samples\n",
      "Vectors dimension : 300\n"
     ]
    }
   ],
   "source": [
    "print(X_train.shape[0], \"training samples\")\n",
    "print(X_test.shape[0], \"test samples\")\n",
    "dim = X_train.shape[1]\n",
    "print(\"Vectors dimension :\", dim)"
   ]
  },
  {
   "cell_type": "markdown",
   "metadata": {},
   "source": [
    "## Build the discriminator \n",
    "\n",
    "Recall what is the objective of the discriminator here : ..."
   ]
  },
  {
   "cell_type": "code",
   "execution_count": 15,
   "metadata": {},
   "outputs": [],
   "source": [
    "class Discriminator(nn.Module):\n",
    "    def __init__(self, dim):\n",
    "        super(Discriminator,self).__init__()\n",
    "        self.h1 = nn.Linear(dim, 2048,bias=True) # 1st hidden layer\n",
    "        self.h2 = nn.Linear(2048,2048,bias=True) # 2nd hidden layer\n",
    "        self.out = nn.Linear(2048,1,bias=True) # output layer\n",
    "        \n",
    "    def forward(self, x):\n",
    "        x = F.dropout(x, p = 0.1) # dropout pour ajouter du bruit\n",
    "        x = F.leaky_relu(self.h1(x), negative_slope=0.2)\n",
    "        x = F.leaky_relu(self.h2(x), negative_slope=0.2)\n",
    "        y = torch.sigmoid(self.out(x)) # ouput = proba\n",
    "        return y"
   ]
  },
  {
   "cell_type": "code",
   "execution_count": 8,
   "metadata": {},
   "outputs": [],
   "source": [
    "#def LossDisc(y, y_pred):\n",
    "#    return(-math.log((y_pred**y)*(1-y_pred)**(1-y)))\n",
    "\n",
    "# or : \n",
    "LossD = nn.BCELoss()"
   ]
  },
  {
   "cell_type": "markdown",
   "metadata": {},
   "source": [
    "## Build the generator \n",
    "\n",
    "Recall what is the objective of the discriminator here : ..."
   ]
  },
  {
   "cell_type": "code",
   "execution_count": 9,
   "metadata": {},
   "outputs": [],
   "source": [
    "# simple linear function \n",
    "# can be seen at a neural network whose weights are elements of W \n",
    "class Generator(nn.Module):\n",
    "    def __init__(self, dim):\n",
    "        super(Generator, self).__init__()\n",
    "        self.l1 = nn.Linear(dim, dim)\n",
    "\n",
    "    def forward(self,x):\n",
    "        y = self.l1(x)\n",
    "        return y"
   ]
  },
  {
   "cell_type": "code",
   "execution_count": 10,
   "metadata": {},
   "outputs": [],
   "source": [
    "# we could put this inside the class...\n",
    "\n",
    "# to ensure that the matrix stays close to the manifold of orthogonal matrices after each update\n",
    "def ortho_update(W, beta):\n",
    "    W = (1+beta)*W - beta*torch.mm(torch.mm(W, W.t()), W)"
   ]
  },
  {
   "cell_type": "code",
   "execution_count": 11,
   "metadata": {},
   "outputs": [],
   "source": [
    "#def LossGen(y, y_pred):\n",
    "#    return(-math.log((y_pred**(1-y))*(1-y_pred)**y))\n",
    "\n",
    "# or :\n",
    "LossG = nn.BCELoss()"
   ]
  },
  {
   "cell_type": "markdown",
   "metadata": {},
   "source": [
    "## It's time to train "
   ]
  },
  {
   "cell_type": "code",
   "execution_count": 12,
   "metadata": {},
   "outputs": [],
   "source": [
    "discrim = Discriminator(dim)\n",
    "gen = Generator(dim)"
   ]
  },
  {
   "cell_type": "code",
   "execution_count": 13,
   "metadata": {},
   "outputs": [],
   "source": [
    "optimD = optim.SGD(discrim.parameters(), lr=0.1)\n",
    "optimG = optim.SGD(gen.parameters(), lr=0.1)"
   ]
  },
  {
   "cell_type": "code",
   "execution_count": 16,
   "metadata": {},
   "outputs": [],
   "source": [
    "#for epoch in range(3): #3 Epochs \n",
    "\n",
    "N = 32 # nb of \"fake\" tgt // Wx\n",
    "M = 32 # nb of \"true\" tgt // y\n",
    "\n",
    "W = special_ortho_group.rvs(dim) # initialisation of W in SO(300)\n",
    "W = torch.tensor(W,dtype=torch.float) # conversion to tensor\n",
    "beta = 0.01\n",
    "\n",
    "# ini the weights of the discrim\n",
    "for p in discrim.parameters():\n",
    "    p.data = torch.zeros(p.data.shape)\n",
    "\n",
    "niter = 10\n",
    "for iteration in range(niter):\n",
    "    #if iteration % 10 == 0 :\n",
    "        #print(\"epoch = %d, iteration = %d\"%(epoch,iteration))\n",
    "    \n",
    "    # DISCRIMINATOR TRAINING\n",
    "    for i in range(3):\n",
    "        # set the discrimintator training mode to True\n",
    "        discrim.train()\n",
    "        \n",
    "        # set descrim gradient to zero before computation at every step\n",
    "        optimD.zero_grad()\n",
    "        \n",
    "        ## create a new batch of N fake & M true data to train the discriminator\n",
    "        # generate 32 random words from the source \n",
    "        rand_src_word_id = torch.Tensor(N).random_(nmax).long()\n",
    "        src_word_emb = src_embeddings[rand_src_word_id.numpy()]\n",
    "        src_word_emb = torch.tensor(src_word_emb, dtype=torch.float) # conversion to tensor\n",
    "    \n",
    "        wsrc_gen = gen(src_word_emb) # translated words (Wx)\n",
    "    \n",
    "        # generate 32 random words from the target\n",
    "        rand_tgt_word_id = torch.Tensor(M).random_(nmax).long()\n",
    "        tgt_word_emb = tgt_embeddings[rand_tgt_word_id.numpy()]\n",
    "        tgt_word_emb = torch.tensor(tgt_word_emb, dtype=torch.float) # conversion to tensor\n",
    "\n",
    "        # concatenation of Wx and y aka traductions and tgt words\n",
    "        input_tensor = torch.cat([wsrc_gen, tgt_word_emb],0)\n",
    "\n",
    "        # output tensor is the answer the discriminator should give\n",
    "        output_tensor = torch.Tensor(64).zero_().float()\n",
    "        # we can smooth the answer by creating thresholds (# 0.8 # smoothing 80% # smoothing 20%)\n",
    "        output_tensor[:N] = 1 # discrim should predict 100% proba of belonging to the src \n",
    "        output_tensor[N:] = 0 # discrim should predict 100% proba of belonging to the tgt \n",
    "        \n",
    "        # prediction of the discriminator\n",
    "        prediction = discrim(input_tensor)\n",
    "        \n",
    "        # compute loss & propogate backward\n",
    "        loss_discrim = LossD(prediction, output_tensor)\n",
    "        # loss_discrim = LossDisc(output_tensor, prediction)\n",
    "        \n",
    "        loss_discrim.backward()\n",
    "        optimD.step()\n",
    "\n",
    "    # GENERATOR TRAINING\n",
    "    \n",
    "    # set the discrimintator training mode to False \n",
    "    discrim.eval()\n",
    "    \n",
    "    # set descrim gradient to zero before computation at every step\n",
    "    optimG.zero_grad()\n",
    "    \n",
    "    ## create a new batch of N fake & M true data to train the generator\n",
    "    # generate 32 random words from the source \n",
    "    rand_src_word_id = torch.Tensor(N).random_(nmax).long()\n",
    "    src_word_emb = src_embeddings[rand_src_word_id.numpy()]\n",
    "    src_word_emb = torch.tensor(src_word_emb, dtype=torch.float) # conversion to tensor\n",
    "\n",
    "    wsrc_gen = gen(src_word_emb) # translated words (Wx)\n",
    "\n",
    "    # generate 32 random words from the target\n",
    "    rand_tgt_word_id = torch.Tensor(M).random_(nmax).long()\n",
    "    tgt_word_emb = tgt_embeddings[rand_tgt_word_id.numpy()]\n",
    "    tgt_word_emb = torch.tensor(tgt_word_emb, dtype=torch.float) # conversion to tensor    \n",
    "    \n",
    "    # concatenation of Wx and y aka traductions and tgt words\n",
    "    input_tensor = torch.cat([wsrc_gen, tgt_word_emb],0)\n",
    "    \n",
    "    # output tensor is the answer the discriminator should give\n",
    "    output_tensor = torch.Tensor(64).zero_().float()\n",
    "    # we can smooth the answer by creating thresholds (# 0.8 # smoothing 80% # smoothing 20%)\n",
    "    output_tensor[:N] = 1 # discrim should predict 100% proba of belonging to the src \n",
    "    output_tensor[N:] = 0 # discrim should predict 100% proba of belonging to the tgt \n",
    "      \n",
    "    # prediction of the discriminator on the new batch\n",
    "    prediction = discrim(input_tensor)\n",
    "\n",
    "    # compute loss & propogate backward\n",
    "    # the discriminator is fooled if he predicts the contrary of what he should have predicted\n",
    "    loss_gen = LossG(prediction, 1-output_tensor)\n",
    "    # loss_gen = LossGen(1-output_tensor, prediction)\n",
    "\n",
    "    loss_gen.backward()\n",
    "    optimG.step()    \n",
    "\n",
    "    W_trained = gen.l1.weight.data # get the weights of the generator which are the elements of W\n",
    "    W_ortho = ortho_update(W_trained, beta)"
   ]
  }
 ],
 "metadata": {
  "kernelspec": {
   "display_name": "Python 3",
   "language": "python",
   "name": "python3"
  },
  "language_info": {
   "codemirror_mode": {
    "name": "ipython",
    "version": 3
   },
   "file_extension": ".py",
   "mimetype": "text/x-python",
   "name": "python",
   "nbconvert_exporter": "python",
   "pygments_lexer": "ipython3",
   "version": "3.7.4"
  }
 },
 "nbformat": 4,
 "nbformat_minor": 2
}
