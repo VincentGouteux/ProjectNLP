{
 "cells": [
  {
   "cell_type": "markdown",
   "metadata": {},
   "source": [
    "# Build an efficient supervised word translator\n",
    "\n",
    "Based on : \"Exploiting Similarities among Languages for Machine Translation\" of Tomas Mikolov, Quoc V. Le & Ilya Sutskever (2013)"
   ]
  },
  {
   "cell_type": "code",
   "execution_count": 6,
   "metadata": {},
   "outputs": [],
   "source": [
    "import io\n",
    "\n",
    "import numpy as np\n",
    "from numpy import dot\n",
    "from numpy.linalg import norm\n",
    "\n",
    "import sklearn\n",
    "from sklearn.metrics.pairwise import cosine_similarity\n",
    "from sklearn.manifold import TSNE\n",
    "\n",
    "import matplotlib.pyplot as plt"
   ]
  },
  {
   "cell_type": "code",
   "execution_count": 2,
   "metadata": {},
   "outputs": [],
   "source": [
    "# load function for pretrained versions of word embeddings\n",
    "def load_embeddings(emb_path, nmax=50000):\n",
    "    vectors = []\n",
    "    word2id = {}\n",
    "    with io.open(emb_path, 'r', encoding='utf-8', newline='\\n', errors='ignore') as f:\n",
    "        next(f)\n",
    "        for i, line in enumerate(f):\n",
    "            word, vect = line.rstrip().split(' ', 1)\n",
    "            vect = np.fromstring(vect, sep=' ')\n",
    "            assert word not in word2id, 'word found twice'\n",
    "            vectors.append(vect)\n",
    "            word2id[word] = len(word2id)\n",
    "            if len(word2id) == nmax:\n",
    "                break\n",
    "    id2word = {v: k for k, v in word2id.items()}\n",
    "    embeddings = np.vstack(vectors)\n",
    "    return embeddings, id2word, word2id"
   ]
  },
  {
   "cell_type": "code",
   "execution_count": 3,
   "metadata": {},
   "outputs": [],
   "source": [
    "eng_path = '/Users/louismonier/Downloads/Monolingual/wiki.en.vec' \n",
    "fr_path = '/Users/louismonier/Downloads/Monolingual/wiki.fr.vec'\n",
    "nmax = 50000  # maximum number of word embeddings to load\n",
    "\n",
    "# load monolingual word embeddings \n",
    "src_embeddings, src_id2word, src_word2id = load_embeddings(fr_path, nmax) # source = french \n",
    "tgt_embeddings, tgt_id2word, tgt_word2id = load_embeddings(eng_path, nmax) # target = english"
   ]
  },
  {
   "cell_type": "markdown",
   "metadata": {},
   "source": [
    "### FRENCH to ENGLISH translation\n",
    "\n",
    "* source language = french\n",
    "* target language = english"
   ]
  },
  {
   "cell_type": "code",
   "execution_count": 4,
   "metadata": {},
   "outputs": [],
   "source": [
    "# load ground-truth bilingual dictionaries function\n",
    "def load_dic(path):\n",
    "    dico_full = {}\n",
    "    vectors_src=[]\n",
    "    vectors_tgt = []\n",
    "    with io.open(path,'r',encoding='utf_8') as f:\n",
    "        for i,line in enumerate(f):\n",
    "            word_src, word_tgt = line.rstrip().split(' ',1)\n",
    "            if word_tgt in tgt_word2id :\n",
    "                dico_full[word_src]=word_tgt\n",
    "    for key in dico_full.keys() :\n",
    "            vectors_src.append(src_embeddings[src_word2id[key]])\n",
    "            vectors_tgt.append(tgt_embeddings[tgt_word2id[dico_full[key]]])\n",
    "    X = np.vstack(vectors_src)\n",
    "    Z = np.vstack (vectors_tgt)\n",
    "    return dico_full,X,Z"
   ]
  },
  {
   "cell_type": "code",
   "execution_count": 5,
   "metadata": {},
   "outputs": [],
   "source": [
    "# train & test bilingual dictionaries\n",
    "path_train = r'/Users/louismonier/Downloads/Monolingual/fr-en.0-5000.txt' \n",
    "path_test = r'/Users/louismonier/Downloads/Monolingual/fr-en.5000-6500.txt'\n",
    "dico_train, X_train, Z_train = load_dic(path_train)\n",
    "dico_test, X_test, Z_test = load_dic(path_test) "
   ]
  },
  {
   "cell_type": "markdown",
   "metadata": {},
   "source": [
    "## Part I - Build a learning a linear mapping from a source (french) to a target (english) embedding space thanks to a translation Matrix W \n",
    "\n",
    "Suppose we are given a set of word pairs and their associated vector representations ${ \\{x_i , z_i\\} }^{n}_{i=1}$ , where $x_i$ ∈ $R^{d1}$ is the distributed representation of word i in the source language, and $z_i$ ∈ $R^{d2}$ is the vector representation of its translation.\n",
    "\n",
    "It is our goal to find a transformation matrix W such that W xi approximates $z_i$ . In practice, W can be learned by the following optimization problem :\n",
    "\n",
    "$$ \\underset{W}{min} C (W) = \\underset{W}{min} \\sum_{i=1}^{n} \\| W x_i - z_i \\|^2 $$ \n",
    "\n",
    "which we solve with gradient descent (GD), stochastic gradient descent (SGD) or mini-batch gradient descent (BGD)."
   ]
  },
  {
   "cell_type": "code",
   "execution_count": null,
   "metadata": {
    "scrolled": true
   },
   "outputs": [],
   "source": [
    "print(X_train.shape[0], \"training samples\")\n",
    "print(X_test.shape[0], \"test samples\")\n",
    "\n",
    "print(\"d1 dimension :\", X_train.shape[1])\n",
    "print(\"d2 dimension :\", X_test.shape[1])"
   ]
  },
  {
   "cell_type": "code",
   "execution_count": null,
   "metadata": {},
   "outputs": [],
   "source": [
    "# function to minimize \n",
    "# normalisation added\n",
    "def C(W,X,Z):\n",
    "    S = 0\n",
    "    S = (1/(X.shape[0])) * sum(np.linalg.norm(np.dot(X, W.T) - Z, axis=1)**2)\n",
    "    return S"
   ]
  },
  {
   "cell_type": "code",
   "execution_count": null,
   "metadata": {},
   "outputs": [],
   "source": [
    "# gradient of the function to minimize\n",
    "# normalisation added\n",
    "def GradW(W,X,Z):\n",
    "    G = np.zeros((Z_train.shape[1], X_train.shape[1]))\n",
    "    G = (2/(X.shape[0])) * np.dot(X.T, (np.dot(X, W.T) - Z)).T\n",
    "    return G"
   ]
  },
  {
   "cell_type": "code",
   "execution_count": null,
   "metadata": {},
   "outputs": [],
   "source": [
    "# GD function\n",
    "def GradientDescent(eta, niter): \n",
    "    W = np.random.rand(300,300) # random initialisation of W\n",
    "    value_C = np.zeros(niter)\n",
    "    for t in range(niter): \n",
    "        value_C[t] = C(W,X_train,Z_train)\n",
    "        W -= eta*GradW(W,X_train,Z_train)\n",
    "    print(\"Done...\")\n",
    "    return (W, value_C) #,acc_test,acc_train)"
   ]
  },
  {
   "cell_type": "code",
   "execution_count": null,
   "metadata": {},
   "outputs": [],
   "source": [
    "# SGC or BGD\n",
    "def StochasticGradientDescent(eta, niter, nb):\n",
    "    W = np.random.rand(300,300) # random initialisation of W\n",
    "    grad = np.zeros((Z_train.shape[1], X_train.shape[1]))\n",
    "    value_C = np.zeros(niter)\n",
    "    \n",
    "    for t in range(niter):\n",
    "        if nb>1 : # BGD\n",
    "            l = np.random.choice(len(dico_train), nb) # size of batch\n",
    "            for p in l : # ok\n",
    "                grad += (2*np.outer((np.dot(W, X_train[p]) - Z_train[p]), X_train[p]))\n",
    "        else : # SGD\n",
    "            l = np.random.randint(low=0,high=len(dico_train)) \n",
    "            grad += (2*np.outer((np.dot(W, X_train[l]) - Z_train[l]), X_train[l]))\n",
    "        \n",
    "        grad = (1/nb)*grad\n",
    "        W -= eta*grad\n",
    "        value_C[t] = C(W,X_train,Z_train)\n",
    "    print(\"Done...\")\n",
    "    return (W, value_C)"
   ]
  },
  {
   "cell_type": "markdown",
   "metadata": {},
   "source": [
    "### Train the model\n",
    "The goal is to find the best W to map the source language to the target one."
   ]
  },
  {
   "cell_type": "code",
   "execution_count": null,
   "metadata": {
    "scrolled": true
   },
   "outputs": [],
   "source": [
    "eta = 5e-5\n",
    "niter = 250\n",
    "\n",
    "W_GD, C_GD = GradientDescent(eta, niter) # GD\n",
    "W_SGD, C_SGD = StochasticGradientDescent(eta, niter, 1) # SGD\n",
    "W_BGD, C_BGD = StochasticGradientDescent(eta, niter, 10) # BGD"
   ]
  },
  {
   "cell_type": "code",
   "execution_count": null,
   "metadata": {
    "scrolled": false
   },
   "outputs": [],
   "source": [
    "plt.plot(range(niter), C_GD, label=\"Gradient Descent\")\n",
    "plt.plot(range(niter), C_SGD, label=\"Stochastic Gradient Descent\")\n",
    "plt.plot(range(niter), C_BGD, label=\"Batch Gradient Descent\")\n",
    "plt.ylabel('Cost Function')\n",
    "plt.xlabel('Iteration')\n",
    "plt.title(\"Cost function\")\n",
    "plt.legend()\n",
    "plt.show()"
   ]
  },
  {
   "cell_type": "markdown",
   "metadata": {},
   "source": [
    "WTF pour le SGD et le BGD ? "
   ]
  },
  {
   "cell_type": "code",
   "execution_count": null,
   "metadata": {
    "scrolled": true
   },
   "outputs": [],
   "source": [
    "# Fastest training\n",
    "Wmin = np.dot(np.linalg.pinv(X_train), Z_train).T "
   ]
  },
  {
   "cell_type": "markdown",
   "metadata": {},
   "source": [
    "### Testing the model"
   ]
  },
  {
   "cell_type": "markdown",
   "metadata": {},
   "source": [
    "At the prediction time, for any given new word and its continuous vector representation x, we can map it to the other language space by computing $z = Wx$. Then, we find the word whose representation is closest to z in the target language space, using cosine similarity as the distance metric."
   ]
  },
  {
   "cell_type": "code",
   "execution_count": null,
   "metadata": {},
   "outputs": [],
   "source": [
    "def prediction(W, new_word, k=5):\n",
    "    x = src_embeddings[src_word2id[new_word]] # vector representation of new_word in the source space\n",
    "    z = np.dot(W, x) # vector representation of the translated word in the target space\n",
    "\n",
    "    # representation closest to z in the target language space, using cosine similarity as the distance metric\n",
    "    z_pred1 = np.argmax(sklearn.metrics.pairwise.cosine_similarity(z.reshape(1,300),tgt_embeddings))\n",
    "\n",
    "    # top k closest word embeddings in the target space\n",
    "    z_predk = sklearn.metrics.pairwise.cosine_similarity(z.reshape(1,300),tgt_embeddings)[0].argsort()[-k:][::-1]\n",
    "    \n",
    "    return [tgt_id2word[z_pred1]], [tgt_id2word[z_predk[i]] for i in range(len(z_predk))]  # return the id of the translated word"
   ]
  },
  {
   "cell_type": "code",
   "execution_count": null,
   "metadata": {},
   "outputs": [],
   "source": [
    "# just a litte test\n",
    "top1, top5 = prediction(W_GD, \"bateau\", k=5)\n",
    "print(\"Top 1 translation for 'bateau' is :\", top1)\n",
    "print(\"Top 5 translations for 'bateau' are :\", top5)"
   ]
  },
  {
   "cell_type": "code",
   "execution_count": null,
   "metadata": {},
   "outputs": [],
   "source": [
    "# construct a translation French to English dictionary\n",
    "def prediction_dict(dico, W, kk):\n",
    "    dico_pred1 = {}\n",
    "    dico_predk = {}\n",
    "    i = 0\n",
    "    for word in dico.keys() :\n",
    "        if (i%100==0):\n",
    "            print(\"Progress :\", round(i/len(dico_test)*100,1), \"%\")\n",
    "        dico_pred1[word], dico_predk[word] = prediction(W, word, k) # lists\n",
    "        i += 1\n",
    "    print(\"Done...\")\n",
    "    return dico_pred1, dico_predk"
   ]
  },
  {
   "cell_type": "code",
   "execution_count": null,
   "metadata": {},
   "outputs": [],
   "source": [
    "# test predictions for W from GD\n",
    "\n",
    "# k-top accuracy (\"acc@k\")\n",
    "k = 5\n",
    "\n",
    "dico_pred1, dico_predk = prediction_dict(dico_test, W_GD, k) \n",
    "dico_pred1_best, dico_predk_best = prediction_dict(dico_test, Wmin, k) "
   ]
  },
  {
   "cell_type": "code",
   "execution_count": null,
   "metadata": {},
   "outputs": [],
   "source": [
    "# measure of the accuracy of the dictionnary\n",
    "# output is a list\n",
    "def accuracy(dpred1, dpredk, dico):\n",
    "    acc1 = [0]\n",
    "    acck = [0]\n",
    "    \n",
    "    for key in dico.keys():\n",
    "        add1, addk = 0, 0\n",
    "        \n",
    "        if dico[key] == dpred1[key][0]:\n",
    "            add1 = 1\n",
    "        acc1.append(acc1[-1] + add1)  \n",
    "    \n",
    "        for i in np.arange(k):\n",
    "            if dico[key] == dpredk[key][i]:\n",
    "                addk = 1\n",
    "                break   \n",
    "        acck.append(acck[-1] + addk) \n",
    "    \n",
    "    acc1 = [i/len(dico) for i in acc1]   \n",
    "    acck = [i/len(dico) for i in acck]\n",
    "    \n",
    "    return acc1, acck # nb de mots bien prédits/nb de mots total     "
   ]
  },
  {
   "cell_type": "code",
   "execution_count": null,
   "metadata": {},
   "outputs": [],
   "source": [
    "# measure of the accuracy of the dictionnary\n",
    "# output is just final result\n",
    "def fast_accuracy(dpred1, dpredk, dico):\n",
    "    acc1 = 0\n",
    "    acck = 0\n",
    "    for key in dico.keys():     \n",
    "        if dico[key] == dpred1[key][0]:\n",
    "            acc1 += 1\n",
    "        \n",
    "        for i in np.arange(k):\n",
    "            if dico[key] == dpredk[key][i]:\n",
    "                acck += 1\n",
    "                break   \n",
    "                \n",
    "    acc1 /= len(dico)\n",
    "    acck /= len(dico)\n",
    "    \n",
    "    return acc1, acck # nb de mots bien prédits/nb de mots total     "
   ]
  },
  {
   "cell_type": "code",
   "execution_count": null,
   "metadata": {},
   "outputs": [],
   "source": [
    "acc1_test, acck_test = accuracy(dico_pred1, dico_predk, dico_test)\n",
    "acc1_test_best, acck_test_best = accuracy(dico_pred1_best, dico_predk_best, dico_test)"
   ]
  },
  {
   "cell_type": "code",
   "execution_count": null,
   "metadata": {
    "scrolled": true
   },
   "outputs": [],
   "source": [
    "plt.plot(acc1_test, label=\"Acc_1\")\n",
    "plt.plot(acck_test,label=\"Acc_k\")\n",
    "plt.plot([i/len(dico_test) for i in range(len(dico_test))],label=\"identity\",alpha=0.4)\n",
    "plt.ylabel('Accuracy (%)')\n",
    "plt.xlabel('Iteration')\n",
    "plt.title(\"Accuracy test set (Gradient Descent method)\")\n",
    "plt.legend()\n",
    "plt.show()\n",
    "\n",
    "print(\"Gradient descent method :\")\n",
    "print(\"Final accuracy @1 =\", round(acc1_test[-1]*100, 2), \"%\")\n",
    "print(\"Final accuracy @5 =\", round(acck_test[-1]*100, 2), \"%\")\n",
    "print(\"\")\n",
    "print(\"Analytical method :\")\n",
    "print(\"Final accuracy @1 =\", round(acc1_test_best[-1]*100, 2), \"%\")\n",
    "print(\"Final accuracy @5 =\", round(acck_test_best[-1]*100, 2), \"%\")"
   ]
  },
  {
   "cell_type": "markdown",
   "metadata": {},
   "source": [
    "### Annex part I"
   ]
  },
  {
   "cell_type": "code",
   "execution_count": null,
   "metadata": {},
   "outputs": [],
   "source": [
    "# Hyper parameter sensitivity\n",
    "eta_list = np.array([0.001, 0.003, 0.01, 0.03, 0.09, 0.3]) \n",
    "niter = 100\n",
    "\n",
    "plt.clf\n",
    "\n",
    "for ieta in np.arange(0,eta_list.size):\n",
    "    eta = eta_list[ieta]\n",
    "    W_GD, C_GD = GradientDescent(eta, niter)\n",
    "    plt.plot(C_GD, label='$\\eta$ = %s' % eta_list[ieta])\n",
    "    \n",
    "plt.ylabel('Cost Function')\n",
    "plt.xlabel('Iteration')\n",
    "plt.title(\"Tuning learning rate $\\eta$\")\n",
    "plt.legend()\n",
    "plt.show()"
   ]
  },
  {
   "cell_type": "code",
   "execution_count": 54,
   "metadata": {
    "scrolled": true
   },
   "outputs": [
    {
     "data": {
      "image/png": "[encoded data removed]",
      "text/plain": [
       "<Figure size 432x288 with 1 Axes>"
      ]
     },
     "metadata": {
      "needs_background": "light"
     },
     "output_type": "display_data"
    }
   ],
   "source": [
    "tsne = TSNE(perplexity=30, n_components=2, init='pca', n_iter=5000)\n",
    "plot_embeddings = np.asfarray(X_test[:128,:], dtype='float')\n",
    "low_dim_embs = tsne.fit_transform(plot_embeddings)\n",
    "#labels = [dico_train[i] for i in range(len(dico_train))]\n",
    "plt.scatter(low_dim_embs[:,0], low_dim_embs[:,1], marker='*')#, labels)\n",
    "\n",
    "\n",
    "plt.title('Visualization of the multilingual word embedding space')\n",
    "\n",
    "#for key in list(dico_train.keys()):\n",
    " #   print(key)\n",
    "  #  plt.annotate(list(dico_train.keys())[key], xy=(low_dim_embs[127,0], low_dim_embs[127,1]), \n",
    "   #          xytext=(0, 0), textcoords='offset points', fontsize=10,color='red')\n",
    "\n",
    "plt.show()"
   ]
  },
  {
   "cell_type": "markdown",
   "metadata": {},
   "source": [
    "## Part II - Adressing the inconsistency\n",
    "\n",
    "Based on : \n",
    "* \"Normalized Word Embedding and Orthogonal Transform for Bilingual Word Translation\" of Chao Xing, Dong Wang, Chao Liu & Yiye Lin (2015)\n",
    "\n",
    "(Xing et al. (2015) argued that Mikolov’s linear matrix should be orthogonal, and introduced an\n",
    "approximate procedure composed of gradient descent updates and repeated applications of the SVD)\n",
    "\n",
    "* \"Offline bilingual word vectors, orthogonal transformations and the inverted softmax\" of Samuel L. Smith, David H. P. Turban, Steven Hamblin & Nils Y. Hammerla\n",
    "\n",
    "\n",
    "**Intuition :**\n",
    "A self-consistent linear transformation between vector\n",
    "spaces should be orthogonal. Intuitively, the transformation is a rotation, and it is found using the\n",
    "singular value decomposition (SVD). The SVD aligns the translations remarkably well.\n",
    "\n",
    "\n",
    "\n",
    "If $W$ maps the source language into the target, then $W^T$ maps the target language back into the source. Then, the transformation $W$ should be an orthogonal matrix $O$ satisfying $O^T O = Id$\n",
    "\n",
    "\n",
    "So, we still try to minimize the following optimisation problem :\n",
    "$$ \\underset{W}{min} \\sum_{i=1}^{n} \\| W x_i - z_i \\|^2 $$ \n",
    "\n",
    "Except, this time $W$ should be also an orthogonal matrix $O$. The problem can be rewritten as finding the maximum of : \n",
    "\n",
    "$$ \\underset{O}{max} \\sum_{i=1}^{n} z_i^T O x_i $$ \n",
    "With the orthogonal constraint ($Id$ is the identity matrix) : $$ O^T O = Id $$\n",
    "\n",
    "The cost function is minimize by : \n",
    "$$ O = U V^T $$ \n",
    "Where $U$ and $V$ are obtained from SVD of $Y^T X$"
   ]
  },
  {
   "cell_type": "code",
   "execution_count": null,
   "metadata": {
    "scrolled": true
   },
   "outputs": [],
   "source": [
    "U, Sg, V = np.linalg.svd(np.dot(Z_train.T, X_train), full_matrices=True)\n",
    "O = np.dot(U, V.T)"
   ]
  },
  {
   "cell_type": "code",
   "execution_count": null,
   "metadata": {},
   "outputs": [],
   "source": [
    "# just a litte test\n",
    "top1, top5 = prediction(Wmin, \"arbre\", k=5)\n",
    "print(\"Top 1 translation for 'bateau' is :\", top1)\n",
    "print(\"Top 5 translations for 'bateau' are :\", top5)"
   ]
  },
  {
   "cell_type": "code",
   "execution_count": null,
   "metadata": {},
   "outputs": [],
   "source": [
    "A = C(Wmin,X_train,Z_train)\n",
    "print(A)\n",
    "B = C(O,X_train,Z_train)\n",
    "print(B)"
   ]
  },
  {
   "cell_type": "code",
   "execution_count": null,
   "metadata": {},
   "outputs": [],
   "source": [
    "def make_training_matrices(source_dictionary, target_dictionary, bilingual_dictionary):\n",
    "    \"\"\"\n",
    "    Source and target dictionaries are the FastVector objects of\n",
    "    source/target languages. bilingual_dictionary is a list of \n",
    "    translation pair tuples [(source_word, target_word), ...].\n",
    "    \"\"\"\n",
    "    source_matrix = []\n",
    "    target_matrix = []\n",
    "\n",
    "    for (source, target) in bilingual_dictionary:\n",
    "        if source in source_dictionary and target in target_dictionary:\n",
    "            source_matrix.append(source_dictionary[source])\n",
    "            target_matrix.append(target_dictionary[target])\n",
    "\n",
    "    # return training matrices\n",
    "    return np.array(source_matrix), np.array(target_matrix)\n",
    "\n",
    "def learn_transformation(source_matrix, target_matrix, normalize_vectors=True):\n",
    "    \"\"\"\n",
    "    Source and target matrices are numpy arrays, shape\n",
    "    (dictionary_length, embedding_dimension). These contain paired\n",
    "    word vectors from the bilingual dictionary.\n",
    "    \"\"\"\n",
    "    # optionally normalize the training vectors\n",
    "    if normalize_vectors:\n",
    "        source_matrix = normalized(source_matrix)\n",
    "        target_matrix = normalized(target_matrix)\n",
    "\n",
    "    # perform the SVD\n",
    "    product = np.matmul(source_matrix.transpose(), target_matrix)\n",
    "    U, s, V = np.linalg.svd(product)\n",
    "\n",
    "    # return orthogonal transformation which aligns source language to the target\n",
    "    return np.matmul(U, V)"
   ]
  },
  {
   "cell_type": "code",
   "execution_count": null,
   "metadata": {
    "scrolled": true
   },
   "outputs": [],
   "source": [
    "dico_pred1_o, dico_predk_o = prediction_dict(dico_test, O, k) "
   ]
  },
  {
   "cell_type": "code",
   "execution_count": null,
   "metadata": {},
   "outputs": [],
   "source": [
    "acc1_test_o, acck_test_o = accuracy(dico_pred1_o, dico_predk_o, dico_test)"
   ]
  },
  {
   "cell_type": "code",
   "execution_count": null,
   "metadata": {},
   "outputs": [],
   "source": [
    "print(\"Gradient descent method :\")\n",
    "print(\"Final accuracy @1 =\", round(acc1_test[-1]*100, 2), \"%\")\n",
    "print(\"Final accuracy @5 =\", round(acck_test[-1]*100, 2), \"%\")\n",
    "print(\"\")\n",
    "print(\"Orthogonal method :\")\n",
    "print(\"Final accuracy @1 =\", round(acc1_test_o[-1]*100, 2), \"%\")\n",
    "print(\"Final accuracy @5 =\", round(acck_test_o[-1]*100, 2), \"%\")"
   ]
  },
  {
   "cell_type": "code",
   "execution_count": null,
   "metadata": {},
   "outputs": [],
   "source": [
    "# inverted softmax (needed ?)\n",
    "Sm = np.dot(Z_train, np.dot(U, np.dot(V.T, X_train.T))) # similarity matrix\n",
    "beta = 1.0 # how to maximize the log ? \n",
    "Ps = np.exp(beta * Sm)\n",
    "Ps /= np.sum(ps, axis=0)"
   ]
  },
  {
   "cell_type": "code",
   "execution_count": null,
   "metadata": {},
   "outputs": [],
   "source": []
  },
  {
   "cell_type": "code",
   "execution_count": null,
   "metadata": {},
   "outputs": [],
   "source": [
    "# redefinition of the optimization task\n",
    "def C_ortho(W,X,Z):\n",
    "    S = 0\n",
    "    for i in range(X.shape[0]):\n",
    "        S += np.dot((np.dot(W, X[i]).T), Z[i])\n",
    "    return S"
   ]
  },
  {
   "cell_type": "code",
   "execution_count": null,
   "metadata": {},
   "outputs": [],
   "source": [
    "# gradient of function to minimize\n",
    "def GradW_ortho(W,X,Z):\n",
    "    G = 0\n",
    "    G = np.dot(X.T, Z)\n",
    "    return G"
   ]
  },
  {
   "cell_type": "code",
   "execution_count": null,
   "metadata": {},
   "outputs": [],
   "source": [
    "# orthogonal GD function\n",
    "def GradientDescent_ortho(alpha, niter)\n",
    "    W = np.random.rand(300,300) # random initialisation of W\n",
    "    C_ortho = np.zeros(niter)\n",
    "    \n",
    "    for t in range(niter):\n",
    "        \n",
    "        C_ortho[t] = C_ortho(W,X_train,Z_train)\n",
    "        W += alpha*GradW_ortho(W,X_train,Z_train)\n",
    "         \n",
    "    #rajouter contrainte d'orthogonalité sur W \n",
    "\n",
    "    return(W, C_ortho)"
   ]
  }
 ],
 "metadata": {
  "kernelspec": {
   "display_name": "Python 3",
   "language": "python",
   "name": "python3"
  },
  "language_info": {
   "codemirror_mode": {
    "name": "ipython",
    "version": 3
   },
   "file_extension": ".py",
   "mimetype": "text/x-python",
   "name": "python",
   "nbconvert_exporter": "python",
   "pygments_lexer": "ipython3",
   "version": "3.7.4"
  }
 },
 "nbformat": 4,
 "nbformat_minor": 2
}
