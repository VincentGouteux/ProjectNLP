{
 "cells": [
  {
   "cell_type": "markdown",
   "metadata": {},
   "source": [
    "# Build an efficient unsupervised word translator\n",
    "\n",
    "Based on : \"Word Translation Without Parallel Data\" by Alexis Conneau, Guillaume Lample, Marc Aurelio Ranzato, Ludovic Denoyer & Hervé Jégou (2017)"
   ]
  },
  {
   "cell_type": "code",
   "execution_count": 64,
   "metadata": {},
   "outputs": [],
   "source": [
    "import io\n",
    "\n",
    "import numpy as np\n",
    "import matplotlib.pyplot as plt\n",
    "\n",
    "import torch\n",
    "from torch import nn\n",
    "import torch.optim as optim\n",
    "import torch.nn.functional as F\n",
    "#from torch.autograd.variable import Variable\n",
    "\n",
    "#from sklearn.metrics.pairwise import cosine_similarity"
   ]
  },
  {
   "cell_type": "code",
   "execution_count": 65,
   "metadata": {},
   "outputs": [],
   "source": [
    "# load function for pretrained versions of word embeddings\n",
    "def load_embeddings(emb_path, nmax=50000):\n",
    "    vectors = []\n",
    "    word2id = {}\n",
    "    with io.open(emb_path, 'r', encoding='utf-8', newline='\\n', errors='ignore') as f:\n",
    "        next(f)\n",
    "        for i, line in enumerate(f):\n",
    "            word, vect = line.rstrip().split(' ', 1)\n",
    "            vect = np.fromstring(vect, sep=' ')\n",
    "            assert word not in word2id, 'word found twice'\n",
    "            vectors.append(vect)\n",
    "            word2id[word] = len(word2id)\n",
    "            if len(word2id) == nmax:\n",
    "                break\n",
    "    id2word = {v: k for k, v in word2id.items()}\n",
    "    embeddings = np.vstack(vectors)\n",
    "    return embeddings, id2word, word2id"
   ]
  },
  {
   "cell_type": "code",
   "execution_count": 108,
   "metadata": {},
   "outputs": [],
   "source": [
    "##########\n",
    "eng_path = '/Users/louismonier/Downloads/Monolingual/wiki.en.vec' \n",
    "fr_path = '/Users/louismonier/Downloads/Monolingual/wiki.fr.vec'\n",
    "##########\n",
    "#eng_path = '/Users/vince/DataProjetNLP/wiki.en.vec'\n",
    "#fr_path = '/Users/vince/DataProjetNLP/wiki.fr.vec'\n",
    "##########\n",
    "nmax = 50000  # maximum number of word embeddings to load\n",
    "\n",
    "# load monolingual word embeddings \n",
    "src_embeddings, src_id2word, src_word2id = load_embeddings(fr_path, nmax) # source = french \n",
    "tgt_embeddings, tgt_id2word, tgt_word2id = load_embeddings(eng_path, nmax) # target = english"
   ]
  },
  {
   "cell_type": "code",
   "execution_count": 67,
   "metadata": {},
   "outputs": [],
   "source": [
    "# load ground-truth bilingual dictionaries function\n",
    "def load_dic(path):\n",
    "    dico_full = {}\n",
    "    vectors_src=[]\n",
    "    vectors_tgt = []\n",
    "    with io.open(path,'r',encoding='utf_8') as f:\n",
    "        for i,line in enumerate(f):\n",
    "            word_src, word_tgt = line.rstrip().split(' ',1)\n",
    "            if word_tgt in tgt_word2id :\n",
    "                dico_full[word_src]=word_tgt\n",
    "    for key in dico_full.keys() :\n",
    "            vectors_src.append(src_embeddings[src_word2id[key]])\n",
    "            vectors_tgt.append(tgt_embeddings[tgt_word2id[dico_full[key]]])\n",
    "    X = np.vstack(vectors_src)\n",
    "    Z = np.vstack (vectors_tgt)\n",
    "    return dico_full,X,Z"
   ]
  },
  {
   "cell_type": "code",
   "execution_count": 68,
   "metadata": {},
   "outputs": [
    {
     "name": "stdout",
     "output_type": "stream",
     "text": [
      "<class 'numpy.ndarray'>\n",
      "<class 'torch.Tensor'>\n"
     ]
    }
   ],
   "source": [
    "# train & test bilingual dictionaries\n",
    "##########\n",
    "path_train = r'/Users/louismonier/Downloads/Monolingual/fr-en.0-5000.txt' \n",
    "path_test = r'/Users/louismonier/Downloads/Monolingual/fr-en.5000-6500.txt'\n",
    "##########\n",
    "#path_train = '/Users/vince/DataProjetNLP/fr-en.0-5000.txt' \n",
    "#path_test = '/Users/vince/DataProjetNLP/fr-en.5000-6500.txt'\n",
    "##########\n",
    "\n",
    "dico_train, X_train, Z_train = load_dic(path_train)\n",
    "dico_test, X_test, Z_test = load_dic(path_test)\n",
    "\n",
    "# convert embeddings vectors into torch tensors \n",
    "print(type(X_train[0]))\n",
    "X_train, Z_train, X_test, Z_test = map(torch.tensor, (X_train, Z_train, X_test, Z_test)) \n",
    "print(type(X_train[0]))"
   ]
  },
  {
   "cell_type": "code",
   "execution_count": 69,
   "metadata": {
    "scrolled": false
   },
   "outputs": [
    {
     "name": "stdout",
     "output_type": "stream",
     "text": [
      "4971 training samples\n",
      "1483 test samples\n",
      "Vectors dimension : 300\n"
     ]
    }
   ],
   "source": [
    "print(X_train.shape[0], \"training samples\")\n",
    "print(X_test.shape[0], \"test samples\")\n",
    "dim = X_train.shape[1]\n",
    "print(\"Vectors dimension :\", dim)"
   ]
  },
  {
   "cell_type": "markdown",
   "metadata": {},
   "source": [
    "## Build the discriminator \n",
    "\n",
    "Recall what is the objective of the discriminator here : ..."
   ]
  },
  {
   "cell_type": "code",
   "execution_count": 72,
   "metadata": {},
   "outputs": [],
   "source": [
    "class Discriminator(nn.Module):\n",
    "    def __init__(self, dim):\n",
    "        super(Discriminator,self).__init__()\n",
    "        self.h1 = nn.Linear(dim, 2048,bias=True) # 1st hidden layer\n",
    "        self.h2 = nn.Linear(2048,2048,bias=True) # 2nd hidden layer\n",
    "        self.out = nn.Linear(2048,1,bias=True) # output layer\n",
    "        \n",
    "    def forward(self, x):\n",
    "        x = self.h1(F.dropout(x, p = 0.1)) # dropout pour ajouter du bruit\n",
    "        x = F.leaky_relu(self.h1(x), negative_slope=0.2) \n",
    "        x = F.leaky_relu(self.h2(x), negative_slope=0.2)\n",
    "        y = F.sigmoid(self.out(x)) # ouput = proba\n",
    "        return y"
   ]
  },
  {
   "cell_type": "code",
   "execution_count": 73,
   "metadata": {},
   "outputs": [],
   "source": [
    "def LossDisc(y, y_pred):\n",
    "    return(-math.log((y_pred**y)*(1-y_pred)**(1-y)))\n",
    "\n",
    "# or : \n",
    "LossD = nn.BCELoss()"
   ]
  },
  {
   "cell_type": "markdown",
   "metadata": {},
   "source": [
    "## Build the generator \n",
    "\n",
    "Recall what is the objective of the discriminator here : ..."
   ]
  },
  {
   "cell_type": "code",
   "execution_count": 74,
   "metadata": {},
   "outputs": [],
   "source": [
    "# simple linear function \n",
    "# can be seen at a neural network whose weights are elements of W \n",
    "class Generator(nn.Module):\n",
    "    def __init__(self, dim):\n",
    "        super(Generator, self).__init__()\n",
    "        self.l1 = nn.Linear(dim, dim)\n",
    "\n",
    "    def forward(self,x):\n",
    "        y = self.l1(x)\n",
    "        return y"
   ]
  },
  {
   "cell_type": "code",
   "execution_count": 75,
   "metadata": {},
   "outputs": [],
   "source": [
    "def LossMap(y, y_pred):\n",
    "    return(-math.log((y_pred**(1-y))*(1-y_pred)**y))\n",
    "\n",
    "# or :\n",
    "LossG = nn.BCELoss()"
   ]
  },
  {
   "cell_type": "markdown",
   "metadata": {},
   "source": [
    "## It's time to train "
   ]
  },
  {
   "cell_type": "code",
   "execution_count": 76,
   "metadata": {},
   "outputs": [],
   "source": [
    "discrim = Discriminator(dim)\n",
    "gen = Generator(dim)"
   ]
  },
  {
   "cell_type": "code",
   "execution_count": 77,
   "metadata": {},
   "outputs": [],
   "source": [
    "optimD = optim.SGD(discrim.parameters(), lr=0.1)\n",
    "optimG = optim.SGD(gen.parameters(), lr=0.1)"
   ]
  },
  {
   "cell_type": "code",
   "execution_count": 114,
   "metadata": {},
   "outputs": [
    {
     "name": "stdout",
     "output_type": "stream",
     "text": [
      "(32, 300)\n",
      "<class 'numpy.ndarray'>\n",
      "<class 'torch.Tensor'>\n"
     ]
    }
   ],
   "source": [
    "rand_src_word_id = torch.Tensor(32).random_(X_train.shape[0]).long()\n",
    "src_word_emb = src_embeddings[rand_src_word_id.numpy()]\n",
    "src_word_emb = torch.tensor(src_word_emb,dtype=torch.float)\n",
    "print(src_word_emb.shape)\n",
    "print(type(src_word_emb))\n",
    "src_word_emb = torch.tensor(src_word_emb,dtype=torch.float)\n",
    "print(type(src_word_emb))"
   ]
  },
  {
   "cell_type": "code",
   "execution_count": 62,
   "metadata": {},
   "outputs": [
    {
     "name": "stdout",
     "output_type": "stream",
     "text": [
      "epoch = 0, iteration = 0\n"
     ]
    },
    {
     "ename": "NameError",
     "evalue": "name 'disc' is not defined",
     "output_type": "error",
     "traceback": [
      "\u001b[0;31m---------------------------------------------------------------------------\u001b[0m",
      "\u001b[0;31mNameError\u001b[0m                                 Traceback (most recent call last)",
      "\u001b[0;32m<ipython-input-62-8369dd2d34cd>\u001b[0m in \u001b[0;36m<module>\u001b[0;34m\u001b[0m\n\u001b[1;32m      5\u001b[0m         \u001b[0;31m# discriminator trained 3 times for every mapping training\u001b[0m\u001b[0;34m\u001b[0m\u001b[0;34m\u001b[0m\u001b[0;34m\u001b[0m\u001b[0m\n\u001b[1;32m      6\u001b[0m         \u001b[0;32mfor\u001b[0m \u001b[0mi\u001b[0m \u001b[0;32min\u001b[0m \u001b[0mrange\u001b[0m\u001b[0;34m(\u001b[0m\u001b[0;36m3\u001b[0m\u001b[0;34m)\u001b[0m\u001b[0;34m:\u001b[0m\u001b[0;34m\u001b[0m\u001b[0;34m\u001b[0m\u001b[0m\n\u001b[0;32m----> 7\u001b[0;31m             \u001b[0mdisc\u001b[0m\u001b[0;34m.\u001b[0m\u001b[0mtrain\u001b[0m\u001b[0;34m(\u001b[0m\u001b[0;34m)\u001b[0m\u001b[0;34m\u001b[0m\u001b[0;34m\u001b[0m\u001b[0m\n\u001b[0m\u001b[1;32m      8\u001b[0m             \u001b[0;31m#Set gradient to zero before computation at every step\u001b[0m\u001b[0;34m\u001b[0m\u001b[0;34m\u001b[0m\u001b[0;34m\u001b[0m\u001b[0m\n\u001b[1;32m      9\u001b[0m             \u001b[0moptimizer\u001b[0m\u001b[0;34m.\u001b[0m\u001b[0mzero_grad\u001b[0m\u001b[0;34m(\u001b[0m\u001b[0;34m)\u001b[0m\u001b[0;34m\u001b[0m\u001b[0;34m\u001b[0m\u001b[0m\n",
      "\u001b[0;31mNameError\u001b[0m: name 'disc' is not defined"
     ]
    }
   ],
   "source": [
    "#for epoch in range(3): #3 Epochs \n",
    "\n",
    "niter = 10\n",
    "for iteration in range(niter):\n",
    "    #if iteration % 10 == 0 :\n",
    "        #print(\"epoch = %d, iteration = %d\"%(epoch,iteration))\n",
    "    \n",
    "    # DISCRIMINATOR TRAINING\n",
    "    for i in range(3):\n",
    "        # set the training mode to True\n",
    "        discrim.train()\n",
    "        \n",
    "        # set descrim gradient to zero before computation at every step\n",
    "        optimD.zero_grad()\n",
    "        \n",
    "        # generate 32 random words from the source \n",
    "        rand_src_word_id = torch.Tensor(32).random_(nmax).long()\n",
    "        src_word_emb = src_embeddings[rand_src_word_id.numpy()]\n",
    "        src_word_emb = torch.tensor(src_word_emb, dtype=torch.float) # conversion to tensor\n",
    "    \n",
    "        wsrc_gen = gen(src_word_emb)\n",
    "    \n",
    "        # generate 32 random words from the target\n",
    "        rand_tgt_word_id = torch.Tensor(32).random_(nmax).long()\n",
    "        tgt_word_emb = tgt_embeddings[rand_tgt_word_id.numpy()]\n",
    "        tgt_word_emb = torch.tensor(tgt_word_emb, dtype=torch.float) # conversion to tensor\n",
    "\n",
    "        # concatenation of Wx and y aka traductions and tgt words\n",
    "        input_tensor = torch.cat([src_mult_mapper,target_lang_word_emb],0)\n",
    "\n",
    "        # output tensor is the answer the discriminator should give\n",
    "        output_tensor = torch.Tensor(64).zero_().float()\n",
    "        # we can smooth the answer by creating thresholds (# 0.8 # smoothing 80% # smoothing 20%)\n",
    "        output_tensor[:32] = 1 # discrim should predict 100% proba of belonging to the src \n",
    "        output_tensor[32:] = 0 # discrim should predict 100% proba of belonging to the tgt \n",
    "        \n",
    "        # prediction of the discriminator\n",
    "        prediction = discriminator(input_tensor)\n",
    "        \n",
    "        # compute loss & propogate backward\n",
    "        loss_discrim = LossD(prediction, output_tensor)\n",
    "        # loss_discrim = LossDisc(output_tensor, prediction)\n",
    "        \n",
    "        loss_discrim.backward()\n",
    "        optimD.step()\n",
    "\n",
    "    ### TO CONTINUE HERE \n",
    "    # mapping training \n",
    "    discriminator.eval()\n",
    "    #Set gradient to zero before computation at every step\n",
    "    optimizer2.zero_grad()\n",
    "    src_lang_word_id = torch.Tensor(32).random_(50000).long()\n",
    "    src_lang_word_emb = src_embedding_learnable(src_lang_word_id).cuda()\n",
    "    target_lang_word_id = torch.Tensor(32).random_(50000).long()\n",
    "    target_lang_word_emb = target_embedding_learnable(target_lang_word_id).cuda()\n",
    "    src_mult_mapper = mapper(src_lang_word_emb)\n",
    "    input_tensor = torch.cat([src_mult_mapper,target_lang_word_emb],0).cuda()\n",
    "    output_tensor = torch.Tensor(64).zero_().float().cuda()\n",
    "    output_tensor[:32] = 1 -0.2 #Smoothing\n",
    "    output_tensor[32:] = 0.2\n",
    "    prediction = discriminator(input_tensor).cuda()\n",
    "    loss = criterion2(prediction,1-output_tensor).cuda()\n",
    "    loss.backward()\n",
    "    optimizer2.step()\n",
    "    mapping_tensor = mapper.linear1.weight.data\n",
    "    mapping_tensor.copy_((1.01) * mapping_tensor - 0.01 * mapping_tensor.mm(mapping_tensor.t().mm(mapping_tensor)))\n",
    "\n",
    "\n",
    "#Validation through proxy parralel dictionary construction (both directions) and CSLS\n",
    "src_emb_map_validation = mapper(src_embedding_learnable.weight.cuda()).cuda()\n",
    "target_emb_map_validation = target_embedding_learnable.weight.cuda()\n",
    "src_emb_map_validation = src_emb_map_validation/src_emb_map_validation.norm(2, 1, keepdim=True).expand_as(src_emb_map_validation)\n",
    "target_emb_map_validation = target_emb_map_validation/target_emb_map_validation.norm(2, 1, keepdim=True).expand_as(target_emb_map_validation)\n",
    "src_to_target_dictionary = top_words(src_emb_map_validation,target_emb_map_validation)\n",
    "target_to_src_dictionary = top_words(target_emb_map_validation,src_emb_map_validation)\n",
    "dictionary = proxy_construct_dictionary(src_emb_map_validation,target_emb_map_validation,src_to_target_dictionary,target_to_src_dictionary)\n",
    "if dictionary is None:\n",
    "    mean_cosine = -1e9\n",
    "else:\n",
    "    mean_cosine = (src_emb_map_validation[dictionary[:, 0]] * target_emb_map_validation[dictionary[:, 1]]).sum(1).mean()\n",
    "\n",
    "# Dampenining by 0.95\n",
    "optimizer1.param_groups[0]['lr'] = 0.95*optimizer1.param_groups[0]['lr']\n",
    "optimizer2.param_groups[0]['lr'] = 0.95*optimizer2.param_groups[0]['lr']\n",
    "#Divide by 2 if validation decreases\n",
    "if mean_cosine > 0 and mean_cosine < validation_tracker :\n",
    "    optimizer1.param_groups[0]['lr'] = 0.5*optimizer1.param_groups[0]['lr']\n",
    "    optimizer2.param_groups[0]['lr'] = 0.5*optimizer2.param_groups[0]['lr']\n",
    "    validation_tracker = max(mean_cosine,validation_tracker)\n",
    "print(epoch,mean_cosine)\n",
    "\n",
    "\n"
   ]
  },
  {
   "cell_type": "code",
   "execution_count": 18,
   "metadata": {},
   "outputs": [
    {
     "data": {
      "text/plain": [
       "Discriminator(\n",
       "  (h1): Linear(in_features=300, out_features=2048, bias=True)\n",
       "  (h2): Linear(in_features=2048, out_features=2048, bias=True)\n",
       "  (out): Linear(in_features=2048, out_features=1, bias=True)\n",
       ")"
      ]
     },
     "execution_count": 18,
     "metadata": {},
     "output_type": "execute_result"
    }
   ],
   "source": [
    "n_epochs = 1\n",
    "\n",
    "for n in range(n_epochs):\n",
    "    i = 0\n",
    "    for i in range lenx, y in train_loader:\n",
    "        y_pred = model(x)\n",
    "        loss = criterion(y_pred,y)\n",
    "        loss.backward()\n",
    "        optimizer.step()\n",
    "        optimizer.zero_grad()\n",
    "        i+=1\n",
    "        if i % 100 ==0 :\n",
    "            print(\"Epoch [{}/{}], [{}/{}], batch loss = {}\".format(n+1,n_epochs,i*bs,n_data_train,loss))      \n",
    "            \n",
    "    acc = 0    \n",
    "    with torch.no_grad():\n",
    "        for x, y in test_loader:\n",
    "            y_pred = model(x)\n",
    "            y_pred = torch.argmax(y_pred,dim=1)\n",
    "            acc += (y_pred == y).sum().item()\n",
    "        acc = acc/n_data_test\n",
    "    print(\"Epoch [{}/{}], test accuracy = {}\".format(n+1,n_epochs,acc))"
   ]
  },
  {
   "cell_type": "code",
   "execution_count": null,
   "metadata": {},
   "outputs": [],
   "source": []
  },
  {
   "cell_type": "code",
   "execution_count": 31,
   "metadata": {},
   "outputs": [],
   "source": [
    "# function to minimize \n",
    "# normalisation added\n",
    "def C(W,X,Z):\n",
    "    S = 0\n",
    "    S = sum(np.linalg.norm(np.dot(X, W.T) - Z, axis=1)**2) \n",
    "    return S"
   ]
  }
 ],
 "metadata": {
  "kernelspec": {
   "display_name": "Python 3",
   "language": "python",
   "name": "python3"
  },
  "language_info": {
   "codemirror_mode": {
    "name": "ipython",
    "version": 3
   },
   "file_extension": ".py",
   "mimetype": "text/x-python",
   "name": "python",
   "nbconvert_exporter": "python",
   "pygments_lexer": "ipython3",
   "version": "3.7.4"
  }
 },
 "nbformat": 4,
 "nbformat_minor": 2
}
