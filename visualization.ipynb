{
 "cells": [
  {
   "cell_type": "markdown",
   "metadata": {},
   "source": [
    "# Import data\n",
    "\n",
    "Based on : \"Exploiting Similarities among Languages for Machine Translation\" of Tomas Mikolov, Quoc V. Le & Ilya Sutskever (2013)"
   ]
  },
  {
   "cell_type": "code",
   "execution_count": 1,
   "metadata": {},
   "outputs": [],
   "source": [
    "import io\n",
    "\n",
    "import numpy as np\n",
    "from numpy import dot\n",
    "from numpy.linalg import norm\n",
    "\n",
    "import sklearn\n",
    "from sklearn.metrics.pairwise import cosine_similarity\n",
    "from sklearn.manifold import TSNE\n",
    "\n",
    "import matplotlib.pyplot as plt"
   ]
  },
  {
   "cell_type": "code",
   "execution_count": 2,
   "metadata": {},
   "outputs": [],
   "source": [
    "# load function for pretrained versions of word embeddings\n",
    "def load_embeddings(emb_path, nmax=50000):\n",
    "    vectors = []\n",
    "    word2id = {}\n",
    "    with io.open(emb_path, 'r', encoding='utf-8', newline='\\n', errors='ignore') as f:\n",
    "        next(f)\n",
    "        for i, line in enumerate(f):\n",
    "            word, vect = line.rstrip().split(' ', 1)\n",
    "            vect = np.fromstring(vect, sep=' ')\n",
    "            assert word not in word2id, 'word found twice'\n",
    "            vectors.append(vect)\n",
    "            word2id[word] = len(word2id)\n",
    "            if len(word2id) == nmax:\n",
    "                break\n",
    "    id2word = {v: k for k, v in word2id.items()}\n",
    "    embeddings = np.vstack(vectors)\n",
    "    return embeddings, id2word, word2id"
   ]
  },
  {
   "cell_type": "code",
   "execution_count": 3,
   "metadata": {},
   "outputs": [],
   "source": [
    "eng_path = 'wiki.multi.en.vec' \n",
    "fr_path = 'wiki.multi.fr.vec'\n",
    "nmax = 50000  # maximum number of word embeddings to load\n",
    "\n",
    "# load monolingual word embeddings \n",
    "src_embeddings, src_id2word, src_word2id = load_embeddings(fr_path, nmax) # source = french \n",
    "tgt_embeddings, tgt_id2word, tgt_word2id = load_embeddings(eng_path, nmax) # target = english"
   ]
  },
  {
   "cell_type": "markdown",
   "metadata": {},
   "source": [
    "FRENCH to ENGLISH translation\n",
    "\n",
    "* source language = french\n",
    "* target language = english"
   ]
  },
  {
   "cell_type": "code",
   "execution_count": 4,
   "metadata": {},
   "outputs": [],
   "source": [
    "# load ground-truth bilingual dictionaries function\n",
    "def load_dic(path):\n",
    "    dico_full = {}\n",
    "    vectors_src=[]\n",
    "    vectors_tgt = []\n",
    "    with io.open(path,'r',encoding='utf_8') as f:\n",
    "        for i,line in enumerate(f):\n",
    "            word_src, word_tgt = line.rstrip().split(' ',1)\n",
    "            if word_tgt in tgt_word2id :\n",
    "                dico_full[word_src]=word_tgt\n",
    "    for key in dico_full.keys() :\n",
    "            vectors_src.append(src_embeddings[src_word2id[key]])\n",
    "            vectors_tgt.append(tgt_embeddings[tgt_word2id[dico_full[key]]])\n",
    "    X = np.vstack(vectors_src)\n",
    "    Z = np.vstack (vectors_tgt)\n",
    "    return dico_full,X,Z"
   ]
  },
  {
   "cell_type": "code",
   "execution_count": 5,
   "metadata": {},
   "outputs": [],
   "source": [
    "# train & test bilingual dictionaries\n",
    "path_train = r'fr-en.0-5000.txt' \n",
    "path_test = r'fr-en.5000-6500.txt'\n",
    "dico_train, X_train, Z_train = load_dic(path_train)\n",
    "dico_test, X_test, Z_test = load_dic(path_test) "
   ]
  },
  {
   "cell_type": "code",
   "execution_count": 7,
   "metadata": {},
   "outputs": [],
   "source": [
    "# function to minimize \n",
    "# normalisation added\n",
    "def C(W,X,Z):\n",
    "    S = 0\n",
    "    S = sum(np.linalg.norm(np.dot(X, W.T) - Z, axis=1)**2) \n",
    "    return S\n",
    "\n",
    "# gradient of the function to minimize\n",
    "# normalisation added\n",
    "def GradW(W,X,Z):\n",
    "    G = np.zeros((Z_train.shape[1], X_train.shape[1]))\n",
    "    G = 2*np.dot(X.T, (np.dot(X, W.T) - Z)).T\n",
    "    return G\n",
    "\n",
    "# GD function\n",
    "def GradientDescent(eta, niter): \n",
    "    W = np.random.rand(300,300) # random initialisation of W\n",
    "    value_C = np.zeros(niter)\n",
    "    for t in range(niter): \n",
    "        value_C[t] = (1/(X_train.shape[0])) * C(W,X_train,Z_train)\n",
    "        W -= (1/X_train.shape[0])*eta*GradW(W,X_train,Z_train)\n",
    "    print(\"GD done...\")\n",
    "    return (W, value_C) #,acc_test,acc_train)"
   ]
  },
  {
   "cell_type": "markdown",
   "metadata": {},
   "source": [
    "### Train + test the model\n",
    "The goal is to find the best W to map the source language to the target one."
   ]
  },
  {
   "cell_type": "code",
   "execution_count": 220,
   "metadata": {
    "scrolled": true
   },
   "outputs": [
    {
     "name": "stdout",
     "output_type": "stream",
     "text": [
      "GD done...\n"
     ]
    },
    {
     "data": {
      "image/png": "[encoded data removed]",
      "text/plain": [
       "<matplotlib.figure.Figure at 0x7f5123242630>"
      ]
     },
     "metadata": {},
     "output_type": "display_data"
    }
   ],
   "source": [
    "eta = 0.3\n",
    "niter = 10000\n",
    "batch_size = 1000\n",
    "\n",
    "W_GD, C_GD = GradientDescent(eta, niter) # GD\n",
    "plt.plot(range(niter), C_GD, label=\"Gradient Descent\")\n",
    "#plt.plot(range(niter), C_SGD, label=\"Stochastic Gradient Descent\")\n",
    "#plt.plot(range(niter), C_BGD, label=\"Batch Gradient Descent\")\n",
    "plt.ylabel('Cost Function')\n",
    "plt.xlabel('Iteration')\n",
    "plt.title(\"Cost function\")\n",
    "plt.legend()\n",
    "plt.show()\n",
    "\n",
    "def prediction(W, new_word, k=5):\n",
    "    x = src_embeddings[src_word2id[new_word]] # vector representation of new_word in the source space\n",
    "    z = np.dot(W, x) # vector representation of the translated word in the target space\n",
    "\n",
    "    # representation closest to z in the target language space, using cosine similarity as the distance metric\n",
    "    z_pred1 = np.argmax(sklearn.metrics.pairwise.cosine_similarity(z.reshape(1,300),tgt_embeddings))\n",
    "\n",
    "    # top k closest word embeddings in the target space\n",
    "    z_predk = sklearn.metrics.pairwise.cosine_similarity(z.reshape(1,300),tgt_embeddings)[0].argsort()[-k:][::-1]\n",
    "    \n",
    "    return [tgt_id2word[z_pred1]], [tgt_id2word[z_predk[i]] for i in range(len(z_predk))]  # return the id of the translated word"
   ]
  },
  {
   "cell_type": "markdown",
   "metadata": {},
   "source": [
    "# Result Visualization"
   ]
  },
  {
   "cell_type": "code",
   "execution_count": 252,
   "metadata": {},
   "outputs": [
    {
     "name": "stdout",
     "output_type": "stream",
     "text": [
      "Variance explained: 0.05\n"
     ]
    }
   ],
   "source": [
    "from sklearn.decomposition import PCA\n",
    "pca = PCA(n_components=2, whiten=True)  # TSNE(n_components=2, n_iter=3000, verbose=2)\n",
    "pca.fit(np.vstack([src_embeddings, tgt_embeddings]))\n",
    "print('Variance explained: %.2f' % pca.explained_variance_ratio_.sum())\n",
    "\n",
    "import matplotlib.pyplot as plt\n",
    "\n",
    "\n",
    "def plot_similar_word(src_words, src_word2id, src_emb, tgt_words, tgt_word2id, tgt_emb, pca):\n",
    "\n",
    "    Y = []\n",
    "    word_labels = []\n",
    "    for sw in src_words:\n",
    "        Y.append(src_emb[src_word2id[sw]])\n",
    "        word_labels.append(sw)\n",
    "    for tw in tgt_words:\n",
    "        Y.append(tgt_emb[tgt_word2id[tw]])\n",
    "        word_labels.append(tw)\n",
    "\n",
    "    # find tsne coords for 2 dimensions\n",
    "    Y = pca.transform(Y)\n",
    "    x_coords = Y[:, 0]\n",
    "    y_coords = Y[:, 1]\n",
    "\n",
    "    # display scatter plot\n",
    "    plt.figure(figsize=(10, 8), dpi=80)\n",
    "    plt.scatter(x_coords, y_coords, marker='x')\n",
    "\n",
    "    for k, (label, x, y) in enumerate(zip(word_labels, x_coords, y_coords)):\n",
    "        color = 'blue' if k < len(src_words) else 'red'  # src words in blue / tgt words in red\n",
    "        plt.annotate(label, xy=(x, y), xytext=(0, 0), textcoords='offset points', fontsize=19,\n",
    "                     color=color, weight='bold')\n",
    "\n",
    "    plt.xlim(x_coords.min() - 0.2, x_coords.max() + 0.2)\n",
    "    plt.ylim(y_coords.min() - 0.2, y_coords.max() + 0.2)\n",
    "    plt.title('Visualization of the multilingual word embedding space with Translation matrix')\n",
    "\n",
    "    plt.show()"
   ]
  },
  {
   "cell_type": "code",
   "execution_count": 257,
   "metadata": {},
   "outputs": [
    {
     "data": {
      "image/png": "[encoded data removed]",
      "text/plain": [
       "<matplotlib.figure.Figure at 0x7f5122ecd7b8>"
      ]
     },
     "metadata": {},
     "output_type": "display_data"
    }
   ],
   "source": [
    "import random\n",
    "src_words = random.sample(list(src_word2id.keys()), 10)\n",
    "#src_words = ['bateau', 'maison', 'argent', 'ordinateur', 'dieu']\n",
    "tgt_words = []\n",
    "for i in range(0,len(src_words)):\n",
    "    top1, top5 = prediction(W_GD, src_words[i], k=5) #top 1: english word (target)\n",
    "    tgt_words.append(top1[0])\n",
    "\n",
    "# assert words in dictionaries\n",
    "for sw in src_words:\n",
    "    assert sw in src_word2id, '\"%s\" not in source dictionary' % sw\n",
    "for tw in tgt_words:\n",
    "    assert tw in tgt_word2id, '\"%s\" not in target dictionary' % sw\n",
    "\n",
    "plot_similar_word(src_words, src_word2id, src_embeddings, tgt_words, tgt_word2id, tgt_embeddings, pca)\n",
    "\n"
   ]
  },
  {
   "cell_type": "code",
   "execution_count": 258,
   "metadata": {},
   "outputs": [
    {
     "data": {
      "text/plain": [
       "['arrived',\n",
       " 'tucson',\n",
       " 'balkans',\n",
       " 'assisted',\n",
       " 'nissan',\n",
       " 'rider',\n",
       " 'famicom',\n",
       " 'friend',\n",
       " 'shadow',\n",
       " 'universities']"
      ]
     },
     "execution_count": 258,
     "metadata": {},
     "output_type": "execute_result"
    }
   ],
   "source": [
    "tgt_words"
   ]
  },
  {
   "cell_type": "code",
   "execution_count": 259,
   "metadata": {},
   "outputs": [
    {
     "data": {
      "text/plain": [
       "['rencontrèrent',\n",
       " 'tucson',\n",
       " 'balkans',\n",
       " 'assistée',\n",
       " 'nissan',\n",
       " 'rider',\n",
       " 'famicom',\n",
       " 'ami',\n",
       " 'shadow',\n",
       " 'universités']"
      ]
     },
     "execution_count": 259,
     "metadata": {},
     "output_type": "execute_result"
    }
   ],
   "source": [
    "src_words"
   ]
  },
  {
   "cell_type": "code",
   "execution_count": 235,
   "metadata": {},
   "outputs": [
    {
     "name": "stdout",
     "output_type": "stream",
     "text": [
      "Top 1 translation for '' is : ['ears']\n",
      "Top 5 translations for 'bateau' are : ['ears', 'ear', 'eyes', 'lips', 'nose']\n"
     ]
    }
   ],
   "source": [
    "top1, top5 = prediction(W_GD, \"oreiller\", k=5)\n",
    "print(\"Top 1 translation for '' is :\", top1)\n",
    "print(\"Top 5 translations for 'bateau' are :\", top5)"
   ]
  }
 ],
 "metadata": {
  "kernelspec": {
   "display_name": "Python 3",
   "language": "python",
   "name": "python3"
  },
  "language_info": {
   "codemirror_mode": {
    "name": "ipython",
    "version": 3
   },
   "file_extension": ".py",
   "mimetype": "text/x-python",
   "name": "python",
   "nbconvert_exporter": "python",
   "pygments_lexer": "ipython3",
   "version": "3.6.8"
  }
 },
 "nbformat": 4,
 "nbformat_minor": 2
}
