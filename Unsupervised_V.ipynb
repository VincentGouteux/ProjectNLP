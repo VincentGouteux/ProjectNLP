{
 "cells": [
  {
   "cell_type": "markdown",
   "metadata": {},
   "source": [
    "# Build an efficient unsupervised word translator\n",
    "\n",
    "Based on : \"Word Translation Without Parallel Data\" by Alexis Conneau, Guillaume Lample, Marc Aurelio Ranzato, Ludovic Denoyer & Hervé Jégou (2017)"
   ]
  },
  {
   "cell_type": "code",
   "execution_count": 1,
   "metadata": {},
   "outputs": [],
   "source": [
    "import io\n",
    "\n",
    "import numpy as np\n",
    "import matplotlib.pyplot as plt\n",
    "import math\n",
    "\n",
    "import torch\n",
    "from torch import nn\n",
    "import torch.optim as optim\n",
    "import torch.nn.functional as F\n",
    "\n",
    "from scipy.stats import special_ortho_group\n",
    "from sklearn.metrics.pairwise import cosine_similarity\n",
    "from sklearn.neighbors import NearestNeighbors"
   ]
  },
  {
   "cell_type": "code",
   "execution_count": 2,
   "metadata": {},
   "outputs": [],
   "source": [
    "# load function for pretrained versions of word embeddings\n",
    "def load_embeddings(emb_path, nmax=50000):\n",
    "    vectors = []\n",
    "    word2id = {}\n",
    "    with io.open(emb_path, 'r', encoding='utf-8', newline='\\n', errors='ignore') as f:\n",
    "        next(f)\n",
    "        for i, line in enumerate(f):\n",
    "            word, vect = line.rstrip().split(' ', 1)\n",
    "            vect = np.fromstring(vect, sep=' ')\n",
    "            assert word not in word2id, 'word found twice'\n",
    "            vectors.append(vect)\n",
    "            word2id[word] = len(word2id)\n",
    "            if len(word2id) == nmax:\n",
    "                break\n",
    "    id2word = {v: k for k, v in word2id.items()}\n",
    "    embeddings = np.vstack(vectors)\n",
    "    return embeddings, id2word, word2id"
   ]
  },
  {
   "cell_type": "code",
   "execution_count": 3,
   "metadata": {},
   "outputs": [],
   "source": [
    "##########\n",
    "eng_path = '/Users/louismonier/Downloads/Monolingual/wiki.en.vec' \n",
    "fr_path = '/Users/louismonier/Downloads/Monolingual/wiki.fr.vec'\n",
    "##########\n",
    "#eng_path = '/Users/vince/DataProjetNLP/wiki.en.vec'\n",
    "#fr_path = '/Users/vince/DataProjetNLP/wiki.fr.vec'\n",
    "##########\n",
    "nmax = 50000  # maximum number of word embeddings to load\n",
    "\n",
    "# load monolingual word embeddings \n",
    "src_embeddings, src_id2word, src_word2id = load_embeddings(fr_path, nmax) # source = french \n",
    "tgt_embeddings, tgt_id2word, tgt_word2id = load_embeddings(eng_path, nmax) # target = english"
   ]
  },
  {
   "cell_type": "code",
   "execution_count": 4,
   "metadata": {},
   "outputs": [],
   "source": [
    "# load ground-truth bilingual dictionaries function\n",
    "def load_dic(path):\n",
    "    dico_full = {}\n",
    "    vectors_src=[]\n",
    "    vectors_tgt = []\n",
    "    with io.open(path,'r',encoding='utf_8') as f:\n",
    "        for i,line in enumerate(f):\n",
    "            word_src, word_tgt = line.rstrip().split(' ',1)\n",
    "            if word_tgt in tgt_word2id :\n",
    "                dico_full[word_src]=word_tgt\n",
    "    for key in dico_full.keys() :\n",
    "            vectors_src.append(src_embeddings[src_word2id[key]])\n",
    "            vectors_tgt.append(tgt_embeddings[tgt_word2id[dico_full[key]]])\n",
    "    X = np.vstack(vectors_src)\n",
    "    Z = np.vstack (vectors_tgt)\n",
    "    return dico_full,X,Z"
   ]
  },
  {
   "cell_type": "code",
   "execution_count": 5,
   "metadata": {},
   "outputs": [
    {
     "name": "stdout",
     "output_type": "stream",
     "text": [
      "<class 'numpy.ndarray'>\n",
      "<class 'torch.Tensor'>\n"
     ]
    }
   ],
   "source": [
    "# train & test bilingual dictionaries\n",
    "##########\n",
    "path_train = r'/Users/louismonier/Downloads/Monolingual/fr-en.0-5000.txt' \n",
    "path_test = r'/Users/louismonier/Downloads/Monolingual/fr-en.5000-6500.txt'\n",
    "##########\n",
    "#path_train = '/Users/vince/DataProjetNLP/fr-en.0-5000.txt' \n",
    "#path_test = '/Users/vince/DataProjetNLP/fr-en.5000-6500.txt'\n",
    "##########\n",
    "\n",
    "dico_train, X_train, Z_train = load_dic(path_train)\n",
    "dico_test, X_test, Z_test = load_dic(path_test)\n",
    "\n",
    "# convert embeddings vectors into torch tensors \n",
    "print(type(X_train[0]))\n",
    "X_train, Z_train, X_test, Z_test = map(torch.tensor, (X_train, Z_train, X_test, Z_test)) \n",
    "print(type(X_train[0]))"
   ]
  },
  {
   "cell_type": "code",
   "execution_count": 6,
   "metadata": {
    "scrolled": false
   },
   "outputs": [
    {
     "name": "stdout",
     "output_type": "stream",
     "text": [
      "4971 training samples\n",
      "1483 test samples\n",
      "Vectors dimension : 300\n"
     ]
    }
   ],
   "source": [
    "print(X_train.shape[0], \"training samples\")\n",
    "print(X_test.shape[0], \"test samples\")\n",
    "dim = X_train.shape[1]\n",
    "print(\"Vectors dimension :\", dim)"
   ]
  },
  {
   "cell_type": "markdown",
   "metadata": {},
   "source": [
    "## Build the discriminator \n",
    "\n",
    "Recall what is the objective of the discriminator here : ..."
   ]
  },
  {
   "cell_type": "code",
   "execution_count": 255,
   "metadata": {},
   "outputs": [],
   "source": [
    "class Discriminator(nn.Module):\n",
    "    def __init__(self, dim):\n",
    "        super(Discriminator,self).__init__()\n",
    "        self.h1 = nn.Linear(dim, 2048,bias=True) # 1st hidden layer\n",
    "        #self.h2 = nn.Linear(2048,2048,bias=True) # 2nd hidden layer\n",
    "        self.out = nn.Linear(2048,1,bias=True) # output layer\n",
    "        \n",
    "    def forward(self, x):\n",
    "        x = F.dropout(x, p = 0.1) # dropout pour ajouter du bruit\n",
    "        x = F.leaky_relu(self.h1(x), negative_slope=0.2)\n",
    "        #x = F.leaky_relu(self.h2(x), negative_slope=0.2)\n",
    "        y = torch.sigmoid(self.out(x)) # ouput = proba\n",
    "        return y"
   ]
  },
  {
   "cell_type": "markdown",
   "metadata": {},
   "source": [
    "## Build the generator \n",
    "\n",
    "Recall what is the objective of the discriminator here : ..."
   ]
  },
  {
   "cell_type": "code",
   "execution_count": 256,
   "metadata": {},
   "outputs": [],
   "source": [
    "# simple linear function \n",
    "# can be seen at a neural network whose weights are elements of W \n",
    "class Generator(nn.Module):\n",
    "    def __init__(self, dim):\n",
    "        super(Generator, self).__init__()\n",
    "        self.l1 = nn.Linear(dim, dim, bias=False)\n",
    "\n",
    "    def forward(self,x):\n",
    "        y = self.l1(x)\n",
    "        return y"
   ]
  },
  {
   "cell_type": "markdown",
   "metadata": {},
   "source": [
    "## It's time to train "
   ]
  },
  {
   "cell_type": "code",
   "execution_count": 257,
   "metadata": {},
   "outputs": [],
   "source": [
    "discrim = Discriminator(dim)\n",
    "gen = Generator(dim)"
   ]
  },
  {
   "cell_type": "code",
   "execution_count": 258,
   "metadata": {},
   "outputs": [],
   "source": [
    "LossD = nn.BCELoss()\n",
    "LossG = nn.BCELoss()\n",
    "\n",
    "optimD = optim.SGD(discrim.parameters(), lr=0.1)\n",
    "optimG = optim.SGD(gen.parameters(), lr=0.1)"
   ]
  },
  {
   "cell_type": "code",
   "execution_count": 259,
   "metadata": {},
   "outputs": [],
   "source": [
    "#for epoch in range(3): #3 Epochs \n",
    "LD = []\n",
    "LG = []\n",
    "\n",
    "N = 32 # nb of \"fake\" tgt // Wx\n",
    "M = 32 # nb of \"true\" tgt // y\n",
    "\n",
    "W = special_ortho_group.rvs(dim)\n",
    "gen.l1.weight.data = torch.tensor(W,dtype=torch.float) # ini of generator's weights in SO(300)\n",
    "beta = 0.01\n",
    "\n",
    "for param in discrim.h1.parameters():\n",
    "    param.data.uniform_(-0.1,0.1)\n",
    "\n",
    "niter = 500\n",
    "nb_d = 1\n",
    "nb_g = 10"
   ]
  },
  {
   "cell_type": "code",
   "execution_count": 260,
   "metadata": {
    "scrolled": true
   },
   "outputs": [
    {
     "name": "stdout",
     "output_type": "stream",
     "text": [
      "epoch = 1, iteration = 0\n",
      "epoch = 1, iteration = 10\n",
      "epoch = 1, iteration = 20\n",
      "epoch = 1, iteration = 30\n",
      "epoch = 1, iteration = 40\n",
      "epoch = 1, iteration = 50\n",
      "epoch = 1, iteration = 60\n",
      "epoch = 1, iteration = 70\n",
      "epoch = 1, iteration = 80\n",
      "epoch = 1, iteration = 90\n",
      "epoch = 1, iteration = 100\n",
      "epoch = 1, iteration = 110\n",
      "epoch = 1, iteration = 120\n",
      "epoch = 1, iteration = 130\n",
      "epoch = 1, iteration = 140\n",
      "epoch = 1, iteration = 150\n",
      "epoch = 1, iteration = 160\n",
      "epoch = 1, iteration = 170\n",
      "epoch = 1, iteration = 180\n",
      "epoch = 1, iteration = 190\n",
      "epoch = 1, iteration = 200\n",
      "epoch = 1, iteration = 210\n",
      "epoch = 1, iteration = 220\n",
      "epoch = 1, iteration = 230\n",
      "epoch = 1, iteration = 240\n",
      "epoch = 1, iteration = 250\n",
      "epoch = 1, iteration = 260\n",
      "epoch = 1, iteration = 270\n",
      "epoch = 1, iteration = 280\n",
      "epoch = 1, iteration = 290\n",
      "epoch = 1, iteration = 300\n",
      "epoch = 1, iteration = 310\n",
      "epoch = 1, iteration = 320\n",
      "epoch = 1, iteration = 330\n",
      "epoch = 1, iteration = 340\n",
      "epoch = 1, iteration = 350\n",
      "epoch = 1, iteration = 360\n",
      "epoch = 1, iteration = 370\n",
      "epoch = 1, iteration = 380\n",
      "epoch = 1, iteration = 390\n",
      "epoch = 1, iteration = 400\n",
      "epoch = 1, iteration = 410\n",
      "epoch = 1, iteration = 420\n",
      "epoch = 1, iteration = 430\n",
      "epoch = 1, iteration = 440\n",
      "epoch = 1, iteration = 450\n",
      "epoch = 1, iteration = 460\n",
      "epoch = 1, iteration = 470\n",
      "epoch = 1, iteration = 480\n",
      "epoch = 1, iteration = 490\n"
     ]
    }
   ],
   "source": [
    "for epoch in range(1): #3 epochs \n",
    "    for iteration in range(niter):\n",
    "        if iteration % 10 == 0 :\n",
    "            print(\"epoch = %d, iteration = %d\"%(1,iteration))\n",
    "\n",
    "        # DISCRIMINATOR TRAINING\n",
    "        for i in range(nb_d):\n",
    "            # set the discrimintator training mode to True\n",
    "            discrim.train()\n",
    "            gen.eval()\n",
    "\n",
    "            # set descrim gradient to zero before computation at every step\n",
    "            optimD.zero_grad()\n",
    "\n",
    "            ## create a new batch of N fake & M true data to train the discriminator\n",
    "            # generate N random words from the source \n",
    "            rand_src_word_id = torch.Tensor(N).random_(nmax).long()\n",
    "            src_word_emb = src_embeddings[rand_src_word_id.numpy()]\n",
    "            src_word_emb = torch.tensor(src_word_emb, dtype=torch.float) # conversion to tensor\n",
    "\n",
    "            wsrc_gen = gen(src_word_emb) # translated words (Wx)\n",
    "\n",
    "            # generate M random words from the target\n",
    "            rand_tgt_word_id = torch.Tensor(M).random_(nmax).long()\n",
    "            tgt_word_emb = tgt_embeddings[rand_tgt_word_id.numpy()]\n",
    "            tgt_word_emb = torch.tensor(tgt_word_emb, dtype=torch.float) # conversion to tensor\n",
    "\n",
    "            # concatenation of Wx and y aka traductions and tgt words\n",
    "            input_tensor = torch.cat([wsrc_gen, tgt_word_emb],0)\n",
    "\n",
    "            # output tensor is the answer the discriminator should give\n",
    "            output_tensor = torch.Tensor(N+M, 1).zero_().float()\n",
    "\n",
    "            # we can smooth the answer by creating thresholds (# 0.8 # smoothing 80% # smoothing 20%)\n",
    "            output_tensor[:N] = 0.8 # discrim should predict 100% proba of belonging to the src \n",
    "            output_tensor[N:] = 0.2 # discrim should predict 100% proba of belonging to the tgt \n",
    "\n",
    "            # prediction of the discriminator\n",
    "            prediction = discrim(input_tensor)\n",
    "\n",
    "            # compute loss & propogate backward\n",
    "            lossDISC = LossD(prediction, output_tensor)\n",
    "            \n",
    "            if i+1==nb_d:\n",
    "                LD.append(lossDISC)\n",
    "\n",
    "            lossDISC.backward()\n",
    "            optimD.step()\n",
    "\n",
    "##########################################################################################\n",
    "\n",
    "        # GENERATOR TRAINING\n",
    "        for j in range(nb_g):\n",
    "            \n",
    "            # set the discrimintator training mode to False \n",
    "            discrim.eval()\n",
    "            gen.train()\n",
    "\n",
    "            # set descrim gradient to zero before computation at every step\n",
    "            optimG.zero_grad()\n",
    "\n",
    "            ## create a new batch of N fake & M true data to train the generator\n",
    "            # generate 32 random words from the source \n",
    "            rand_src_word_id = torch.Tensor(N).random_(nmax).long()\n",
    "            src_word_emb = src_embeddings[rand_src_word_id.numpy()]\n",
    "            src_word_emb = torch.tensor(src_word_emb, dtype=torch.float) # conversion to tensor\n",
    "\n",
    "            wsrc_gen = gen(src_word_emb) # translated words (Wx)\n",
    "\n",
    "            # generate 32 random words from the target\n",
    "            rand_tgt_word_id = torch.Tensor(M).random_(nmax).long()\n",
    "            tgt_word_emb = tgt_embeddings[rand_tgt_word_id.numpy()]\n",
    "            tgt_word_emb = torch.tensor(tgt_word_emb, dtype=torch.float) # conversion to tensor    \n",
    "\n",
    "            # concatenation of Wx and y aka traductions and tgt words\n",
    "            input_tensor = torch.cat([wsrc_gen, tgt_word_emb],0)\n",
    "\n",
    "            # output tensor is the answer the discriminator should give\n",
    "            output_tensor = torch.Tensor(N+M, 1).zero_().float()\n",
    "\n",
    "            # we can smooth the answer by creating thresholds (# 0.8 # smoothing 80% # smoothing 20%)\n",
    "            output_tensor[:N] = 0.8 # discrim should predict 100% proba of belonging to the src \n",
    "            output_tensor[N:] = 0.2 # discrim should predict 100% proba of belonging to the tgt \n",
    "\n",
    "            # prediction of the discriminator on the new batch\n",
    "            prediction = discrim(input_tensor)\n",
    "\n",
    "            # compute loss & propogate backward\n",
    "            # the discriminator is fooled if he predicts the contrary of what he should have predicted\n",
    "            gen_contrary = 1 - output_tensor\n",
    "   \n",
    "            lossGEN = LossG(prediction, gen_contrary)\n",
    "            \n",
    "            lossGEN.backward()\n",
    "            optimG.step()\n",
    "            \n",
    "            if j+1==nb_g:\n",
    "                LG.append(lossGEN)\n",
    "        \n",
    "            W_trained = gen.l1.weight.data # get the weights of the generator which are the elements of W\n",
    "\n",
    "            # to ensure that the matrix stays close to the manifold of orthogonal matrices after each update\n",
    "            W_ortho = (1+beta)*W_trained - beta*torch.mm(torch.mm(W_trained, W_trained.t()), W_trained) \n",
    "            gen.l1.weight.data = W_ortho "
   ]
  },
  {
   "cell_type": "code",
   "execution_count": 261,
   "metadata": {},
   "outputs": [
    {
     "data": {
      "text/plain": [
       "<matplotlib.legend.Legend at 0x1a6a1f0c10>"
      ]
     },
     "execution_count": 261,
     "metadata": {},
     "output_type": "execute_result"
    },
    {
     "data": {
      "image/png": "[encoded data removed]",
      "text/plain": [
       "<Figure size 432x288 with 1 Axes>"
      ]
     },
     "metadata": {
      "needs_background": "light"
     },
     "output_type": "display_data"
    }
   ],
   "source": [
    "plt.plot(LD, label='loss discrim')\n",
    "plt.plot(LG, label='loss gen')\n",
    "plt.legend()"
   ]
  },
  {
   "cell_type": "markdown",
   "metadata": {},
   "source": [
    "# Tests"
   ]
  },
  {
   "cell_type": "code",
   "execution_count": 176,
   "metadata": {},
   "outputs": [],
   "source": [
    "def prediction(W, new_word, k=5):\n",
    "    x = src_embeddings[src_word2id[new_word]] # embedding on of new_word in the source space\n",
    "    z = np.dot(W, x) # embedding of the translated word in the target space\n",
    "\n",
    "    # representation closest to z in the target language space, using cosine similarity as the distance metric\n",
    "    z_pred1 = np.argmax(cosine_similarity(z.reshape(1,300),tgt_embeddings))\n",
    "\n",
    "    # top k closest word embeddings in the target space\n",
    "    z_predk = cosine_similarity(z.reshape(1,300),tgt_embeddings)[0].argsort()[-k:][::-1]\n",
    "    \n",
    "    return [tgt_id2word[z_pred1]], [tgt_id2word[z_predk[i]] for i in range(len(z_predk))]  # return the id of the translated word"
   ]
  },
  {
   "cell_type": "code",
   "execution_count": 177,
   "metadata": {},
   "outputs": [],
   "source": [
    "W_trained_test = gen.l1.weight.data"
   ]
  },
  {
   "cell_type": "code",
   "execution_count": 178,
   "metadata": {},
   "outputs": [
    {
     "name": "stdout",
     "output_type": "stream",
     "text": [
      "['decent', 'ccc', 'understand', 'importantly', 'actually']\n",
      "--\n",
      "['christy', 'scene', 'returns', 'hideout', 'finds']\n",
      "--\n",
      "['std', 'romano', 'confessional', 'confess', 'defence']\n",
      "--\n",
      "['trivially', 'hence', 'itself', 'indeed', 'afaik']\n",
      "--\n",
      "['questioning', 'stressing', 'persuasion', 'contends', 'espoused']\n",
      "--\n"
     ]
    }
   ],
   "source": [
    "src_words = ['bateau', 'maison', 'argent', 'ordinateur', 'dieu']\n",
    "tgt_words = []\n",
    "for i in range(0,len(src_words)):\n",
    "    top1, top5 = prediction(W_trained_test.numpy(), src_words[i], k=5) #top 1: english word (target)\n",
    "    tgt_words.append(top1[0])\n",
    "    print(top5)\n",
    "    print('--')"
   ]
  },
  {
   "cell_type": "code",
   "execution_count": 127,
   "metadata": {},
   "outputs": [],
   "source": [
    "# 2 possibles functions of accuracy = \n",
    "# - Test if we traduced well the word = sum Indicatrice(Wxi!=zi) (en gros nb de mots mal traduits) # en fait non c'est con on a pas les traductions\n",
    "# - Test how far we are from the \"supposed\" translation\n",
    "# compute Wxi find the closest z (SUPPOSED TO BE ITS TRANSLATION) and cumpute eculidian distance\n",
    "def test_accuracy(X_text,W_trained):\n",
    "    loss = 0\n",
    "    for x in X_test : # get all french words\n",
    "        word2id = {v: k for k, v in src_id2word.items()}\n",
    "        word_emb_new = np.dot(W_trained, x)\n",
    "        scores = (tgt_embeddings / np.linalg.norm(tgt_embeddings, 2, 1)[:, None]).dot(word_emb_new / np.linalg.norm(word_emb_new))\n",
    "        best = scores.argsort()[-1:][::-1]\n",
    "        nearest_eng_emb = src_embeddings[best]\n",
    "        loss = loss + np.linalg.norm(word_emb_new-nearest_eng_emb)  \n",
    "    return(loss)\n",
    "    \n",
    "# Pous savoir si le model est pertinent tester l'accuracy pour W_trained a epoch 1,5,10                             "
   ]
  },
  {
   "cell_type": "code",
   "execution_count": 130,
   "metadata": {},
   "outputs": [
    {
     "data": {
      "text/plain": [
       "209.139963900218"
      ]
     },
     "execution_count": 130,
     "metadata": {},
     "output_type": "execute_result"
    }
   ],
   "source": [
    "rand_test_word_id = torch.Tensor(30).random_(nmax).long()\n",
    "X_test = src_embeddings[rand_test_word_id.numpy()] # GARDER LES MEMES POUR LES TESTS\n",
    "\n",
    "test_accuracy(X_test,W_trained_test)"
   ]
  },
  {
   "cell_type": "code",
   "execution_count": 154,
   "metadata": {},
   "outputs": [],
   "source": [
    "# construct a translation French to English dictionary\n",
    "def prediction_dict(dico, W, k):\n",
    "    dico_pred1 = {}\n",
    "    dico_predk = {}\n",
    "    i = 0\n",
    "    for word in dico.keys() :\n",
    "        if (i%100==0):\n",
    "            print(\"Progress :\", round(i/len(dico_test)*100,1), \"%\")\n",
    "        dico_pred1[word], dico_predk[word] = prediction(W, word, k) # lists\n",
    "        i += 1\n",
    "    print(\"Done...\")\n",
    "    return dico_pred1, dico_predk"
   ]
  },
  {
   "cell_type": "code",
   "execution_count": 155,
   "metadata": {},
   "outputs": [
    {
     "name": "stdout",
     "output_type": "stream",
     "text": [
      "Progress : 0.0 %\n",
      "Progress : 6.7 %\n",
      "Progress : 13.5 %\n",
      "Progress : 20.2 %\n",
      "Progress : 27.0 %\n",
      "Progress : 33.7 %\n",
      "Progress : 40.5 %\n",
      "Progress : 47.2 %\n",
      "Progress : 53.9 %\n",
      "Progress : 60.7 %\n",
      "Progress : 67.4 %\n",
      "Progress : 74.2 %\n",
      "Progress : 80.9 %\n",
      "Progress : 87.7 %\n",
      "Progress : 94.4 %\n",
      "Done...\n"
     ]
    }
   ],
   "source": [
    "# k-top accuracy (\"acc@k\")\n",
    "k = 5\n",
    "\n",
    "dico_pred1, dico_predk = prediction_dict(dico_test, W_trained_test, k) "
   ]
  },
  {
   "cell_type": "code",
   "execution_count": 156,
   "metadata": {},
   "outputs": [],
   "source": [
    "# measure of the accuracy of the dictionnary\n",
    "# output is a list\n",
    "def accuracy(dpred1, dpredk, dico):\n",
    "    acc1 = [0]\n",
    "    acck = [0]\n",
    "    \n",
    "    for key in dico.keys():\n",
    "        add1, addk = 0, 0\n",
    "        \n",
    "        if dico[key] == dpred1[key][0]:\n",
    "            add1 = 1\n",
    "        acc1.append(acc1[-1] + add1)  \n",
    "    \n",
    "        for i in np.arange(k):\n",
    "            if dico[key] == dpredk[key][i]:\n",
    "                addk = 1\n",
    "                break   \n",
    "        acck.append(acck[-1] + addk) \n",
    "    \n",
    "    acc1 = [i/len(dico) for i in acc1]   \n",
    "    acck = [i/len(dico) for i in acck]\n",
    "    \n",
    "    return acc1, acck # nb de mots bien prédits/nb de mots total     "
   ]
  },
  {
   "cell_type": "code",
   "execution_count": 157,
   "metadata": {},
   "outputs": [],
   "source": [
    "acc1_test, acck_test = accuracy(dico_pred1, dico_predk, dico_test)"
   ]
  },
  {
   "cell_type": "code",
   "execution_count": 159,
   "metadata": {},
   "outputs": [
    {
     "data": {
      "image/png": "[encoded data removed]",
      "text/plain": [
       "<Figure size 432x288 with 1 Axes>"
      ]
     },
     "metadata": {
      "needs_background": "light"
     },
     "output_type": "display_data"
    },
    {
     "name": "stdout",
     "output_type": "stream",
     "text": [
      "Gradient descent method :\n",
      "Final accuracy @1 = 0.0 %\n",
      "Final accuracy @5 = 0.07 %\n"
     ]
    }
   ],
   "source": [
    "plt.plot(acc1_test, label=\"Acc_1\")\n",
    "plt.plot(acck_test,label=\"Acc_k\")\n",
    "plt.plot([i/len(dico_test) for i in range(len(dico_test))],label=\"identity\",alpha=0.4)\n",
    "plt.ylabel('Accuracy (%)')\n",
    "plt.xlabel('Iteration')\n",
    "plt.title(\"Accuracy test set (Gradient Descent method)\")\n",
    "plt.legend()\n",
    "plt.show()\n",
    "\n",
    "print(\"Gradient descent method :\")\n",
    "print(\"Final accuracy @1 =\", round(acc1_test[-1]*100, 2), \"%\")\n",
    "print(\"Final accuracy @5 =\", round(acck_test[-1]*100, 2), \"%\")"
   ]
  },
  {
   "cell_type": "markdown",
   "metadata": {},
   "source": [
    "## How to pair words\n",
    "\n",
    "CSLS tentative"
   ]
  },
  {
   "cell_type": "code",
   "execution_count": null,
   "metadata": {},
   "outputs": [],
   "source": [
    "k = 5 # hyper parameter K-NN\n",
    "CSLS = np.zeros(nmax)\n",
    "\n",
    "def CSLS_measure(W, new_word, k):\n",
    "    x = src_embeddings[src_word2id[new_word]] # embeddings of new_word in the source space\n",
    "    z = np.dot(W, x).reshape(-1,300) # embeddings of the translated word in the target space\n",
    "    \n",
    "    knn = NearestNeighbors(n_neighbors=k, algorithm='auto')\n",
    "    for t in range(tgt_embeddings.shape[0]):\n",
    "        dist_tgt_nn_z, index_tgt_nn_z = knn.kneighbors(z)\n",
    "        emb_tgt_nn_z = tgt_embeddings[index_tgt_nn_z[0][:]].reshape(-1,300) # embeddings of the k-nn in the tgt space\n",
    "        r_T = (1/k)*sum(cosine_similarity(z, emb_tgt_nn_z))\n",
    "        \n",
    "        dist_tgt_nn_yt, index_tgt_nn_yt = knn.kneighbors(tgt_embeddings[t])\n",
    "        emb_tgt_nn_yt = tgt_embeddings[index_tgt_nn_yt[0][:]].reshape(-1,300) \n",
    "        r_S = (1/k)*sum(cosine_similarity(tgt_embeddings[t], emb_tgt_nn_yt))\n",
    "        \n",
    "        CSLS[t] = 2*cosine_similarity(z, tgt_embeddings[t]) - r_T - r_S\n",
    "    CSLS = np.argmax(CSLS)\n",
    "        \n",
    "    return CSLS"
   ]
  }
 ],
 "metadata": {
  "kernelspec": {
   "display_name": "Python 3",
   "language": "python",
   "name": "python3"
  },
  "language_info": {
   "codemirror_mode": {
    "name": "ipython",
    "version": 3
   },
   "file_extension": ".py",
   "mimetype": "text/x-python",
   "name": "python",
   "nbconvert_exporter": "python",
   "pygments_lexer": "ipython3",
   "version": "3.7.4"
  }
 },
 "nbformat": 4,
 "nbformat_minor": 2
}
